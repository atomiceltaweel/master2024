{
  "cells": [
    {
      "cell_type": "markdown",
      "metadata": {
        "id": "view-in-github",
        "colab_type": "text"
      },
      "source": [
        "<a href=\"https://colab.research.google.com/github/atomiceltaweel/master2024/blob/main/workers_compensations_reserve_prediction_model.ipynb\" target=\"_parent\"><img src=\"https://colab.research.google.com/assets/colab-badge.svg\" alt=\"Open In Colab\"/></a>"
      ]
    },
    {
      "cell_type": "code",
      "execution_count": null,
      "metadata": {
        "colab": {
          "base_uri": "https://localhost:8080/",
          "height": 277
        },
        "id": "sAjpnU501Gbi",
        "outputId": "7083b59a-9b7a-4680-a897-d3d99d03de44"
      },
      "outputs": [
        {
          "output_type": "display_data",
          "data": {
            "text/plain": [
              "               _                           \n",
              "platform       x86_64-pc-linux-gnu         \n",
              "arch           x86_64                      \n",
              "os             linux-gnu                   \n",
              "system         x86_64, linux-gnu           \n",
              "status                                     \n",
              "major          4                           \n",
              "minor          3.3                         \n",
              "year           2024                        \n",
              "month          02                          \n",
              "day            29                          \n",
              "svn rev        86002                       \n",
              "language       R                           \n",
              "version.string R version 4.3.3 (2024-02-29)\n",
              "nickname       Angel Food Cake             "
            ]
          },
          "metadata": {}
        }
      ],
      "source": [
        "version"
      ]
    },
    {
      "cell_type": "code",
      "execution_count": null,
      "metadata": {
        "colab": {
          "base_uri": "https://localhost:8080/",
          "height": 1000
        },
        "id": "FPH8asZ81pWY",
        "outputId": "b89d142f-fce5-422f-bfa2-9bc6bcd5b844"
      },
      "outputs": [
        {
          "output_type": "stream",
          "name": "stdout",
          "text": [
            " chr [1:160, 1:16] \"IRdisplay\" \"IRkernel\" \"pbdZMQ\" \"repr\" \"askpass\" ...\n",
            " - attr(*, \"dimnames\")=List of 2\n",
            "  ..$ : chr [1:160] \"IRdisplay\" \"IRkernel\" \"pbdZMQ\" \"repr\" ...\n",
            "  ..$ : chr [1:16] \"Package\" \"LibPath\" \"Version\" \"Priority\" ...\n"
          ]
        },
        {
          "output_type": "display_data",
          "data": {
            "text/html": [
              "<table class=\"dataframe\">\n",
              "<caption>A matrix: 160 × 4 of type chr</caption>\n",
              "<thead>\n",
              "\t<tr><th></th><th scope=col>Package</th><th scope=col>Version</th><th scope=col>Priority</th><th scope=col>Depends</th></tr>\n",
              "</thead>\n",
              "<tbody>\n",
              "\t<tr><th scope=row>IRdisplay</th><td><span style=white-space:pre-wrap>IRdisplay  </span></td><td><span style=white-space:pre-wrap>1.1   </span></td><td>NA</td><td><span style=white-space:pre-wrap>R (&gt;= 3.0.1)                                       </span></td></tr>\n",
              "\t<tr><th scope=row>IRkernel</th><td><span style=white-space:pre-wrap>IRkernel   </span></td><td>1.3.2 </td><td>NA</td><td><span style=white-space:pre-wrap>R (&gt;= 3.2.0)                                       </span></td></tr>\n",
              "\t<tr><th scope=row>pbdZMQ</th><td><span style=white-space:pre-wrap>pbdZMQ     </span></td><td>0.3-9 </td><td>NA</td><td><span style=white-space:pre-wrap>R (&gt;= 3.5.0)                                       </span></td></tr>\n",
              "\t<tr><th scope=row>repr</th><td><span style=white-space:pre-wrap>repr       </span></td><td>1.1.6 </td><td>NA</td><td><span style=white-space:pre-wrap>R (&gt;= 3.0.1)                                       </span></td></tr>\n",
              "\t<tr><th scope=row>askpass</th><td>askpass    </td><td>1.1   </td><td>NA</td><td>NA                                                 </td></tr>\n",
              "\t<tr><th scope=row>backports</th><td><span style=white-space:pre-wrap>backports  </span></td><td>1.4.1 </td><td>NA</td><td><span style=white-space:pre-wrap>R (&gt;= 3.0.0)                                       </span></td></tr>\n",
              "\t<tr><th scope=row>base64enc</th><td><span style=white-space:pre-wrap>base64enc  </span></td><td>0.1-3 </td><td>NA</td><td><span style=white-space:pre-wrap>R (&gt;= 2.9.0)                                       </span></td></tr>\n",
              "\t<tr><th scope=row>bit</th><td><span style=white-space:pre-wrap>bit        </span></td><td>4.0.4 </td><td>NA</td><td><span style=white-space:pre-wrap>R (&gt;= 2.9.2)                                       </span></td></tr>\n",
              "\t<tr><th scope=row>bit64</th><td><span style=white-space:pre-wrap>bit64      </span></td><td>4.0.5 </td><td>NA</td><td>R (&gt;= 3.0.1), bit (&gt;= 4.0.0), utils, methods, stats</td></tr>\n",
              "\t<tr><th scope=row>blob</th><td>blob       </td><td>1.2.4 </td><td>NA</td><td>NA                                                 </td></tr>\n",
              "\t<tr><th scope=row>brew</th><td>brew       </td><td>1.0-8 </td><td>NA</td><td>NA                                                 </td></tr>\n",
              "\t<tr><th scope=row>brio</th><td>brio       </td><td>1.1.3 </td><td>NA</td><td>NA                                                 </td></tr>\n",
              "\t<tr><th scope=row>broom</th><td><span style=white-space:pre-wrap>broom      </span></td><td>1.0.4 </td><td>NA</td><td><span style=white-space:pre-wrap>R (&gt;= 3.5)                                         </span></td></tr>\n",
              "\t<tr><th scope=row>bslib</th><td><span style=white-space:pre-wrap>bslib      </span></td><td>0.4.1 </td><td>NA</td><td><span style=white-space:pre-wrap>R (&gt;= 2.10)                                        </span></td></tr>\n",
              "\t<tr><th scope=row>cachem</th><td>cachem     </td><td>1.0.8 </td><td>NA</td><td>NA                                                 </td></tr>\n",
              "\t<tr><th scope=row>callr</th><td><span style=white-space:pre-wrap>callr      </span></td><td>3.7.3 </td><td>NA</td><td><span style=white-space:pre-wrap>R (&gt;= 3.4)                                         </span></td></tr>\n",
              "\t<tr><th scope=row>cellranger</th><td>cellranger </td><td>1.1.0 </td><td>NA</td><td><span style=white-space:pre-wrap>R (&gt;= 3.0.0)                                       </span></td></tr>\n",
              "\t<tr><th scope=row>cli</th><td><span style=white-space:pre-wrap>cli        </span></td><td>3.6.1 </td><td>NA</td><td><span style=white-space:pre-wrap>R (&gt;= 3.4)                                         </span></td></tr>\n",
              "\t<tr><th scope=row>clipr</th><td>clipr      </td><td>0.8.0 </td><td>NA</td><td>NA                                                 </td></tr>\n",
              "\t<tr><th scope=row>colorspace</th><td>colorspace </td><td>2.1-0 </td><td>NA</td><td><span style=white-space:pre-wrap>R (&gt;= 3.0.0), methods                              </span></td></tr>\n",
              "\t<tr><th scope=row>commonmark</th><td>commonmark </td><td>1.9.0 </td><td>NA</td><td>NA                                                 </td></tr>\n",
              "\t<tr><th scope=row>cpp11</th><td>cpp11      </td><td>0.4.3 </td><td>NA</td><td>NA                                                 </td></tr>\n",
              "\t<tr><th scope=row>crayon</th><td>crayon     </td><td>1.5.2 </td><td>NA</td><td>NA                                                 </td></tr>\n",
              "\t<tr><th scope=row>credentials</th><td>credentials</td><td>1.3.2 </td><td>NA</td><td>NA                                                 </td></tr>\n",
              "\t<tr><th scope=row>curl</th><td><span style=white-space:pre-wrap>curl       </span></td><td>5.0.0 </td><td>NA</td><td><span style=white-space:pre-wrap>R (&gt;= 3.0.0)                                       </span></td></tr>\n",
              "\t<tr><th scope=row>data.table</th><td>data.table </td><td>1.14.8</td><td>NA</td><td><span style=white-space:pre-wrap>R (&gt;= 3.1.0)                                       </span></td></tr>\n",
              "\t<tr><th scope=row>DBI</th><td><span style=white-space:pre-wrap>DBI        </span></td><td>1.1.3 </td><td>NA</td><td><span style=white-space:pre-wrap>methods, R (&gt;= 3.0.0)                              </span></td></tr>\n",
              "\t<tr><th scope=row>dbplyr</th><td><span style=white-space:pre-wrap>dbplyr     </span></td><td>2.3.2 </td><td>NA</td><td><span style=white-space:pre-wrap>R (&gt;= 3.1)                                         </span></td></tr>\n",
              "\t<tr><th scope=row>desc</th><td><span style=white-space:pre-wrap>desc       </span></td><td>1.4.2 </td><td>NA</td><td><span style=white-space:pre-wrap>R (&gt;= 3.4)                                         </span></td></tr>\n",
              "\t<tr><th scope=row>devtools</th><td><span style=white-space:pre-wrap>devtools   </span></td><td>2.4.3 </td><td>NA</td><td><span style=white-space:pre-wrap>R (&gt;= 3.0.2), usethis (&gt;= 2.0.1)                   </span></td></tr>\n",
              "\t<tr><th scope=row>⋮</th><td>⋮</td><td>⋮</td><td>⋮</td><td>⋮</td></tr>\n",
              "\t<tr><th scope=row>zip</th><td>zip       </td><td>2.3.0  </td><td>NA         </td><td>NA                                           </td></tr>\n",
              "\t<tr><th scope=row>base</th><td>base      </td><td>4.3.0  </td><td>base       </td><td>NA                                           </td></tr>\n",
              "\t<tr><th scope=row>boot</th><td><span style=white-space:pre-wrap>boot      </span></td><td>1.3-28 </td><td>recommended</td><td><span style=white-space:pre-wrap>R (&gt;= 3.0.0), graphics, stats                </span></td></tr>\n",
              "\t<tr><th scope=row>class</th><td><span style=white-space:pre-wrap>class     </span></td><td>7.3-22 </td><td>recommended</td><td><span style=white-space:pre-wrap>R (&gt;= 3.0.0), stats, utils                   </span></td></tr>\n",
              "\t<tr><th scope=row>cluster</th><td><span style=white-space:pre-wrap>cluster   </span></td><td><span style=white-space:pre-wrap>2.1.4  </span></td><td>recommended</td><td><span style=white-space:pre-wrap>R (&gt;= 3.5.0)                                 </span></td></tr>\n",
              "\t<tr><th scope=row>codetools</th><td>codetools </td><td>0.2-19 </td><td>recommended</td><td><span style=white-space:pre-wrap>R (&gt;= 2.1)                                   </span></td></tr>\n",
              "\t<tr><th scope=row>compiler</th><td>compiler  </td><td>4.3.0  </td><td>base       </td><td>NA                                           </td></tr>\n",
              "\t<tr><th scope=row>datasets</th><td>datasets  </td><td>4.3.0  </td><td>base       </td><td>NA                                           </td></tr>\n",
              "\t<tr><th scope=row>foreign</th><td><span style=white-space:pre-wrap>foreign   </span></td><td>0.8-82 </td><td>recommended</td><td><span style=white-space:pre-wrap>R (&gt;= 4.0.0)                                 </span></td></tr>\n",
              "\t<tr><th scope=row>graphics</th><td>graphics  </td><td>4.3.0  </td><td>base       </td><td>NA                                           </td></tr>\n",
              "\t<tr><th scope=row>grDevices</th><td>grDevices </td><td>4.3.0  </td><td>base       </td><td>NA                                           </td></tr>\n",
              "\t<tr><th scope=row>grid</th><td>grid      </td><td>4.3.0  </td><td>base       </td><td>NA                                           </td></tr>\n",
              "\t<tr><th scope=row>KernSmooth</th><td>KernSmooth</td><td>2.23-21</td><td>recommended</td><td><span style=white-space:pre-wrap>R (&gt;= 2.5.0), stats                          </span></td></tr>\n",
              "\t<tr><th scope=row>lattice</th><td><span style=white-space:pre-wrap>lattice   </span></td><td>0.21-8 </td><td>recommended</td><td><span style=white-space:pre-wrap>R (&gt;= 4.0.0)                                 </span></td></tr>\n",
              "\t<tr><th scope=row>MASS</th><td><span style=white-space:pre-wrap>MASS      </span></td><td>7.3-60 </td><td>recommended</td><td>R (&gt;= 4.0), grDevices, graphics, stats, utils</td></tr>\n",
              "\t<tr><th scope=row>Matrix</th><td><span style=white-space:pre-wrap>Matrix    </span></td><td>1.5-4.1</td><td>recommended</td><td><span style=white-space:pre-wrap>R (&gt;= 3.5.0), methods                        </span></td></tr>\n",
              "\t<tr><th scope=row>methods</th><td>methods   </td><td>4.3.0  </td><td>base       </td><td>NA                                           </td></tr>\n",
              "\t<tr><th scope=row>mgcv</th><td><span style=white-space:pre-wrap>mgcv      </span></td><td>1.8-42 </td><td>recommended</td><td><span style=white-space:pre-wrap>R (&gt;= 3.6.0), nlme (&gt;= 3.1-64)               </span></td></tr>\n",
              "\t<tr><th scope=row>nlme</th><td><span style=white-space:pre-wrap>nlme      </span></td><td>3.1-162</td><td>recommended</td><td><span style=white-space:pre-wrap>R (&gt;= 3.5.0)                                 </span></td></tr>\n",
              "\t<tr><th scope=row>nnet</th><td><span style=white-space:pre-wrap>nnet      </span></td><td>7.3-19 </td><td>recommended</td><td><span style=white-space:pre-wrap>R (&gt;= 3.0.0), stats, utils                   </span></td></tr>\n",
              "\t<tr><th scope=row>parallel</th><td>parallel  </td><td>4.3.0  </td><td>base       </td><td>NA                                           </td></tr>\n",
              "\t<tr><th scope=row>rpart</th><td><span style=white-space:pre-wrap>rpart     </span></td><td>4.1.19 </td><td>recommended</td><td><span style=white-space:pre-wrap>R (&gt;= 2.15.0), graphics, stats, grDevices    </span></td></tr>\n",
              "\t<tr><th scope=row>spatial</th><td><span style=white-space:pre-wrap>spatial   </span></td><td>7.3-16 </td><td>recommended</td><td><span style=white-space:pre-wrap>R (&gt;= 3.0.0), graphics, stats, utils         </span></td></tr>\n",
              "\t<tr><th scope=row>splines</th><td>splines   </td><td>4.3.0  </td><td>base       </td><td>NA                                           </td></tr>\n",
              "\t<tr><th scope=row>stats</th><td>stats     </td><td>4.3.0  </td><td>base       </td><td>NA                                           </td></tr>\n",
              "\t<tr><th scope=row>stats4</th><td>stats4    </td><td>4.3.0  </td><td>base       </td><td>NA                                           </td></tr>\n",
              "\t<tr><th scope=row>survival</th><td><span style=white-space:pre-wrap>survival  </span></td><td><span style=white-space:pre-wrap>3.5-5  </span></td><td>recommended</td><td><span style=white-space:pre-wrap>R (&gt;= 3.5.0)                                 </span></td></tr>\n",
              "\t<tr><th scope=row>tcltk</th><td>tcltk     </td><td>4.3.0  </td><td>base       </td><td>NA                                           </td></tr>\n",
              "\t<tr><th scope=row>tools</th><td>tools     </td><td>4.3.0  </td><td>base       </td><td>NA                                           </td></tr>\n",
              "\t<tr><th scope=row>utils</th><td>utils     </td><td>4.3.0  </td><td>base       </td><td>NA                                           </td></tr>\n",
              "</tbody>\n",
              "</table>\n"
            ],
            "text/markdown": "\nA matrix: 160 × 4 of type chr\n\n| <!--/--> | Package | Version | Priority | Depends |\n|---|---|---|---|---|\n| IRdisplay | IRdisplay   | 1.1    | NA | R (&gt;= 3.0.1)                                        |\n| IRkernel | IRkernel    | 1.3.2  | NA | R (&gt;= 3.2.0)                                        |\n| pbdZMQ | pbdZMQ      | 0.3-9  | NA | R (&gt;= 3.5.0)                                        |\n| repr | repr        | 1.1.6  | NA | R (&gt;= 3.0.1)                                        |\n| askpass | askpass     | 1.1    | NA | NA                                                  |\n| backports | backports   | 1.4.1  | NA | R (&gt;= 3.0.0)                                        |\n| base64enc | base64enc   | 0.1-3  | NA | R (&gt;= 2.9.0)                                        |\n| bit | bit         | 4.0.4  | NA | R (&gt;= 2.9.2)                                        |\n| bit64 | bit64       | 4.0.5  | NA | R (&gt;= 3.0.1), bit (&gt;= 4.0.0), utils, methods, stats |\n| blob | blob        | 1.2.4  | NA | NA                                                  |\n| brew | brew        | 1.0-8  | NA | NA                                                  |\n| brio | brio        | 1.1.3  | NA | NA                                                  |\n| broom | broom       | 1.0.4  | NA | R (&gt;= 3.5)                                          |\n| bslib | bslib       | 0.4.1  | NA | R (&gt;= 2.10)                                         |\n| cachem | cachem      | 1.0.8  | NA | NA                                                  |\n| callr | callr       | 3.7.3  | NA | R (&gt;= 3.4)                                          |\n| cellranger | cellranger  | 1.1.0  | NA | R (&gt;= 3.0.0)                                        |\n| cli | cli         | 3.6.1  | NA | R (&gt;= 3.4)                                          |\n| clipr | clipr       | 0.8.0  | NA | NA                                                  |\n| colorspace | colorspace  | 2.1-0  | NA | R (&gt;= 3.0.0), methods                               |\n| commonmark | commonmark  | 1.9.0  | NA | NA                                                  |\n| cpp11 | cpp11       | 0.4.3  | NA | NA                                                  |\n| crayon | crayon      | 1.5.2  | NA | NA                                                  |\n| credentials | credentials | 1.3.2  | NA | NA                                                  |\n| curl | curl        | 5.0.0  | NA | R (&gt;= 3.0.0)                                        |\n| data.table | data.table  | 1.14.8 | NA | R (&gt;= 3.1.0)                                        |\n| DBI | DBI         | 1.1.3  | NA | methods, R (&gt;= 3.0.0)                               |\n| dbplyr | dbplyr      | 2.3.2  | NA | R (&gt;= 3.1)                                          |\n| desc | desc        | 1.4.2  | NA | R (&gt;= 3.4)                                          |\n| devtools | devtools    | 2.4.3  | NA | R (&gt;= 3.0.2), usethis (&gt;= 2.0.1)                    |\n| ⋮ | ⋮ | ⋮ | ⋮ | ⋮ |\n| zip | zip        | 2.3.0   | NA          | NA                                            |\n| base | base       | 4.3.0   | base        | NA                                            |\n| boot | boot       | 1.3-28  | recommended | R (&gt;= 3.0.0), graphics, stats                 |\n| class | class      | 7.3-22  | recommended | R (&gt;= 3.0.0), stats, utils                    |\n| cluster | cluster    | 2.1.4   | recommended | R (&gt;= 3.5.0)                                  |\n| codetools | codetools  | 0.2-19  | recommended | R (&gt;= 2.1)                                    |\n| compiler | compiler   | 4.3.0   | base        | NA                                            |\n| datasets | datasets   | 4.3.0   | base        | NA                                            |\n| foreign | foreign    | 0.8-82  | recommended | R (&gt;= 4.0.0)                                  |\n| graphics | graphics   | 4.3.0   | base        | NA                                            |\n| grDevices | grDevices  | 4.3.0   | base        | NA                                            |\n| grid | grid       | 4.3.0   | base        | NA                                            |\n| KernSmooth | KernSmooth | 2.23-21 | recommended | R (&gt;= 2.5.0), stats                           |\n| lattice | lattice    | 0.21-8  | recommended | R (&gt;= 4.0.0)                                  |\n| MASS | MASS       | 7.3-60  | recommended | R (&gt;= 4.0), grDevices, graphics, stats, utils |\n| Matrix | Matrix     | 1.5-4.1 | recommended | R (&gt;= 3.5.0), methods                         |\n| methods | methods    | 4.3.0   | base        | NA                                            |\n| mgcv | mgcv       | 1.8-42  | recommended | R (&gt;= 3.6.0), nlme (&gt;= 3.1-64)                |\n| nlme | nlme       | 3.1-162 | recommended | R (&gt;= 3.5.0)                                  |\n| nnet | nnet       | 7.3-19  | recommended | R (&gt;= 3.0.0), stats, utils                    |\n| parallel | parallel   | 4.3.0   | base        | NA                                            |\n| rpart | rpart      | 4.1.19  | recommended | R (&gt;= 2.15.0), graphics, stats, grDevices     |\n| spatial | spatial    | 7.3-16  | recommended | R (&gt;= 3.0.0), graphics, stats, utils          |\n| splines | splines    | 4.3.0   | base        | NA                                            |\n| stats | stats      | 4.3.0   | base        | NA                                            |\n| stats4 | stats4     | 4.3.0   | base        | NA                                            |\n| survival | survival   | 3.5-5   | recommended | R (&gt;= 3.5.0)                                  |\n| tcltk | tcltk      | 4.3.0   | base        | NA                                            |\n| tools | tools      | 4.3.0   | base        | NA                                            |\n| utils | utils      | 4.3.0   | base        | NA                                            |\n\n",
            "text/latex": "A matrix: 160 × 4 of type chr\n\\begin{tabular}{r|llll}\n  & Package & Version & Priority & Depends\\\\\n\\hline\n\tIRdisplay & IRdisplay   & 1.1    & NA & R (>= 3.0.1)                                       \\\\\n\tIRkernel & IRkernel    & 1.3.2  & NA & R (>= 3.2.0)                                       \\\\\n\tpbdZMQ & pbdZMQ      & 0.3-9  & NA & R (>= 3.5.0)                                       \\\\\n\trepr & repr        & 1.1.6  & NA & R (>= 3.0.1)                                       \\\\\n\taskpass & askpass     & 1.1    & NA & NA                                                 \\\\\n\tbackports & backports   & 1.4.1  & NA & R (>= 3.0.0)                                       \\\\\n\tbase64enc & base64enc   & 0.1-3  & NA & R (>= 2.9.0)                                       \\\\\n\tbit & bit         & 4.0.4  & NA & R (>= 2.9.2)                                       \\\\\n\tbit64 & bit64       & 4.0.5  & NA & R (>= 3.0.1), bit (>= 4.0.0), utils, methods, stats\\\\\n\tblob & blob        & 1.2.4  & NA & NA                                                 \\\\\n\tbrew & brew        & 1.0-8  & NA & NA                                                 \\\\\n\tbrio & brio        & 1.1.3  & NA & NA                                                 \\\\\n\tbroom & broom       & 1.0.4  & NA & R (>= 3.5)                                         \\\\\n\tbslib & bslib       & 0.4.1  & NA & R (>= 2.10)                                        \\\\\n\tcachem & cachem      & 1.0.8  & NA & NA                                                 \\\\\n\tcallr & callr       & 3.7.3  & NA & R (>= 3.4)                                         \\\\\n\tcellranger & cellranger  & 1.1.0  & NA & R (>= 3.0.0)                                       \\\\\n\tcli & cli         & 3.6.1  & NA & R (>= 3.4)                                         \\\\\n\tclipr & clipr       & 0.8.0  & NA & NA                                                 \\\\\n\tcolorspace & colorspace  & 2.1-0  & NA & R (>= 3.0.0), methods                              \\\\\n\tcommonmark & commonmark  & 1.9.0  & NA & NA                                                 \\\\\n\tcpp11 & cpp11       & 0.4.3  & NA & NA                                                 \\\\\n\tcrayon & crayon      & 1.5.2  & NA & NA                                                 \\\\\n\tcredentials & credentials & 1.3.2  & NA & NA                                                 \\\\\n\tcurl & curl        & 5.0.0  & NA & R (>= 3.0.0)                                       \\\\\n\tdata.table & data.table  & 1.14.8 & NA & R (>= 3.1.0)                                       \\\\\n\tDBI & DBI         & 1.1.3  & NA & methods, R (>= 3.0.0)                              \\\\\n\tdbplyr & dbplyr      & 2.3.2  & NA & R (>= 3.1)                                         \\\\\n\tdesc & desc        & 1.4.2  & NA & R (>= 3.4)                                         \\\\\n\tdevtools & devtools    & 2.4.3  & NA & R (>= 3.0.2), usethis (>= 2.0.1)                   \\\\\n\t⋮ & ⋮ & ⋮ & ⋮ & ⋮\\\\\n\tzip & zip        & 2.3.0   & NA          & NA                                           \\\\\n\tbase & base       & 4.3.0   & base        & NA                                           \\\\\n\tboot & boot       & 1.3-28  & recommended & R (>= 3.0.0), graphics, stats                \\\\\n\tclass & class      & 7.3-22  & recommended & R (>= 3.0.0), stats, utils                   \\\\\n\tcluster & cluster    & 2.1.4   & recommended & R (>= 3.5.0)                                 \\\\\n\tcodetools & codetools  & 0.2-19  & recommended & R (>= 2.1)                                   \\\\\n\tcompiler & compiler   & 4.3.0   & base        & NA                                           \\\\\n\tdatasets & datasets   & 4.3.0   & base        & NA                                           \\\\\n\tforeign & foreign    & 0.8-82  & recommended & R (>= 4.0.0)                                 \\\\\n\tgraphics & graphics   & 4.3.0   & base        & NA                                           \\\\\n\tgrDevices & grDevices  & 4.3.0   & base        & NA                                           \\\\\n\tgrid & grid       & 4.3.0   & base        & NA                                           \\\\\n\tKernSmooth & KernSmooth & 2.23-21 & recommended & R (>= 2.5.0), stats                          \\\\\n\tlattice & lattice    & 0.21-8  & recommended & R (>= 4.0.0)                                 \\\\\n\tMASS & MASS       & 7.3-60  & recommended & R (>= 4.0), grDevices, graphics, stats, utils\\\\\n\tMatrix & Matrix     & 1.5-4.1 & recommended & R (>= 3.5.0), methods                        \\\\\n\tmethods & methods    & 4.3.0   & base        & NA                                           \\\\\n\tmgcv & mgcv       & 1.8-42  & recommended & R (>= 3.6.0), nlme (>= 3.1-64)               \\\\\n\tnlme & nlme       & 3.1-162 & recommended & R (>= 3.5.0)                                 \\\\\n\tnnet & nnet       & 7.3-19  & recommended & R (>= 3.0.0), stats, utils                   \\\\\n\tparallel & parallel   & 4.3.0   & base        & NA                                           \\\\\n\trpart & rpart      & 4.1.19  & recommended & R (>= 2.15.0), graphics, stats, grDevices    \\\\\n\tspatial & spatial    & 7.3-16  & recommended & R (>= 3.0.0), graphics, stats, utils         \\\\\n\tsplines & splines    & 4.3.0   & base        & NA                                           \\\\\n\tstats & stats      & 4.3.0   & base        & NA                                           \\\\\n\tstats4 & stats4     & 4.3.0   & base        & NA                                           \\\\\n\tsurvival & survival   & 3.5-5   & recommended & R (>= 3.5.0)                                 \\\\\n\ttcltk & tcltk      & 4.3.0   & base        & NA                                           \\\\\n\ttools & tools      & 4.3.0   & base        & NA                                           \\\\\n\tutils & utils      & 4.3.0   & base        & NA                                           \\\\\n\\end{tabular}\n",
            "text/plain": [
              "            Package     Version Priority   \n",
              "IRdisplay   IRdisplay   1.1     NA         \n",
              "IRkernel    IRkernel    1.3.2   NA         \n",
              "pbdZMQ      pbdZMQ      0.3-9   NA         \n",
              "repr        repr        1.1.6   NA         \n",
              "askpass     askpass     1.1     NA         \n",
              "backports   backports   1.4.1   NA         \n",
              "base64enc   base64enc   0.1-3   NA         \n",
              "bit         bit         4.0.4   NA         \n",
              "bit64       bit64       4.0.5   NA         \n",
              "blob        blob        1.2.4   NA         \n",
              "brew        brew        1.0-8   NA         \n",
              "brio        brio        1.1.3   NA         \n",
              "broom       broom       1.0.4   NA         \n",
              "bslib       bslib       0.4.1   NA         \n",
              "cachem      cachem      1.0.8   NA         \n",
              "callr       callr       3.7.3   NA         \n",
              "cellranger  cellranger  1.1.0   NA         \n",
              "cli         cli         3.6.1   NA         \n",
              "clipr       clipr       0.8.0   NA         \n",
              "colorspace  colorspace  2.1-0   NA         \n",
              "commonmark  commonmark  1.9.0   NA         \n",
              "cpp11       cpp11       0.4.3   NA         \n",
              "crayon      crayon      1.5.2   NA         \n",
              "credentials credentials 1.3.2   NA         \n",
              "curl        curl        5.0.0   NA         \n",
              "data.table  data.table  1.14.8  NA         \n",
              "DBI         DBI         1.1.3   NA         \n",
              "dbplyr      dbplyr      2.3.2   NA         \n",
              "desc        desc        1.4.2   NA         \n",
              "devtools    devtools    2.4.3   NA         \n",
              "⋮           ⋮           ⋮       ⋮          \n",
              "zip         zip         2.3.0   NA         \n",
              "base        base        4.3.0   base       \n",
              "boot        boot        1.3-28  recommended\n",
              "class       class       7.3-22  recommended\n",
              "cluster     cluster     2.1.4   recommended\n",
              "codetools   codetools   0.2-19  recommended\n",
              "compiler    compiler    4.3.0   base       \n",
              "datasets    datasets    4.3.0   base       \n",
              "foreign     foreign     0.8-82  recommended\n",
              "graphics    graphics    4.3.0   base       \n",
              "grDevices   grDevices   4.3.0   base       \n",
              "grid        grid        4.3.0   base       \n",
              "KernSmooth  KernSmooth  2.23-21 recommended\n",
              "lattice     lattice     0.21-8  recommended\n",
              "MASS        MASS        7.3-60  recommended\n",
              "Matrix      Matrix      1.5-4.1 recommended\n",
              "methods     methods     4.3.0   base       \n",
              "mgcv        mgcv        1.8-42  recommended\n",
              "nlme        nlme        3.1-162 recommended\n",
              "nnet        nnet        7.3-19  recommended\n",
              "parallel    parallel    4.3.0   base       \n",
              "rpart       rpart       4.1.19  recommended\n",
              "spatial     spatial     7.3-16  recommended\n",
              "splines     splines     4.3.0   base       \n",
              "stats       stats       4.3.0   base       \n",
              "stats4      stats4      4.3.0   base       \n",
              "survival    survival    3.5-5   recommended\n",
              "tcltk       tcltk       4.3.0   base       \n",
              "tools       tools       4.3.0   base       \n",
              "utils       utils       4.3.0   base       \n",
              "            Depends                                            \n",
              "IRdisplay   R (>= 3.0.1)                                       \n",
              "IRkernel    R (>= 3.2.0)                                       \n",
              "pbdZMQ      R (>= 3.5.0)                                       \n",
              "repr        R (>= 3.0.1)                                       \n",
              "askpass     NA                                                 \n",
              "backports   R (>= 3.0.0)                                       \n",
              "base64enc   R (>= 2.9.0)                                       \n",
              "bit         R (>= 2.9.2)                                       \n",
              "bit64       R (>= 3.0.1), bit (>= 4.0.0), utils, methods, stats\n",
              "blob        NA                                                 \n",
              "brew        NA                                                 \n",
              "brio        NA                                                 \n",
              "broom       R (>= 3.5)                                         \n",
              "bslib       R (>= 2.10)                                        \n",
              "cachem      NA                                                 \n",
              "callr       R (>= 3.4)                                         \n",
              "cellranger  R (>= 3.0.0)                                       \n",
              "cli         R (>= 3.4)                                         \n",
              "clipr       NA                                                 \n",
              "colorspace  R (>= 3.0.0), methods                              \n",
              "commonmark  NA                                                 \n",
              "cpp11       NA                                                 \n",
              "crayon      NA                                                 \n",
              "credentials NA                                                 \n",
              "curl        R (>= 3.0.0)                                       \n",
              "data.table  R (>= 3.1.0)                                       \n",
              "DBI         methods, R (>= 3.0.0)                              \n",
              "dbplyr      R (>= 3.1)                                         \n",
              "desc        R (>= 3.4)                                         \n",
              "devtools    R (>= 3.0.2), usethis (>= 2.0.1)                   \n",
              "⋮           ⋮                                                  \n",
              "zip         NA                                                 \n",
              "base        NA                                                 \n",
              "boot        R (>= 3.0.0), graphics, stats                      \n",
              "class       R (>= 3.0.0), stats, utils                         \n",
              "cluster     R (>= 3.5.0)                                       \n",
              "codetools   R (>= 2.1)                                         \n",
              "compiler    NA                                                 \n",
              "datasets    NA                                                 \n",
              "foreign     R (>= 4.0.0)                                       \n",
              "graphics    NA                                                 \n",
              "grDevices   NA                                                 \n",
              "grid        NA                                                 \n",
              "KernSmooth  R (>= 2.5.0), stats                                \n",
              "lattice     R (>= 4.0.0)                                       \n",
              "MASS        R (>= 4.0), grDevices, graphics, stats, utils      \n",
              "Matrix      R (>= 3.5.0), methods                              \n",
              "methods     NA                                                 \n",
              "mgcv        R (>= 3.6.0), nlme (>= 3.1-64)                     \n",
              "nlme        R (>= 3.5.0)                                       \n",
              "nnet        R (>= 3.0.0), stats, utils                         \n",
              "parallel    NA                                                 \n",
              "rpart       R (>= 2.15.0), graphics, stats, grDevices          \n",
              "spatial     R (>= 3.0.0), graphics, stats, utils               \n",
              "splines     NA                                                 \n",
              "stats       NA                                                 \n",
              "stats4      NA                                                 \n",
              "survival    R (>= 3.5.0)                                       \n",
              "tcltk       NA                                                 \n",
              "tools       NA                                                 \n",
              "utils       NA                                                 "
            ]
          },
          "metadata": {}
        }
      ],
      "source": [
        "str(allPackage <- installed.packages())\n",
        "allPackage [, c(1,3:5)]"
      ]
    },
    {
      "cell_type": "code",
      "execution_count": null,
      "metadata": {
        "colab": {
          "base_uri": "https://localhost:8080/"
        },
        "id": "PlQhKaUq2Y0-",
        "outputId": "0d7b2add-9034-4741-f96f-6976892acf77"
      },
      "outputs": [
        {
          "output_type": "stream",
          "name": "stderr",
          "text": [
            "Installing package into ‘/usr/local/lib/R/site-library’\n",
            "(as ‘lib’ is unspecified)\n",
            "\n",
            "Installing package into ‘/usr/local/lib/R/site-library’\n",
            "(as ‘lib’ is unspecified)\n",
            "\n",
            "Installing package into ‘/usr/local/lib/R/site-library’\n",
            "(as ‘lib’ is unspecified)\n",
            "\n",
            "Installing package into ‘/usr/local/lib/R/site-library’\n",
            "(as ‘lib’ is unspecified)\n",
            "\n",
            "Installing package into ‘/usr/local/lib/R/site-library’\n",
            "(as ‘lib’ is unspecified)\n",
            "\n",
            "Installing package into ‘/usr/local/lib/R/site-library’\n",
            "(as ‘lib’ is unspecified)\n",
            "\n",
            "Installing package into ‘/usr/local/lib/R/site-library’\n",
            "(as ‘lib’ is unspecified)\n",
            "\n",
            "Installing package into ‘/usr/local/lib/R/site-library’\n",
            "(as ‘lib’ is unspecified)\n",
            "\n",
            "Installing package into ‘/usr/local/lib/R/site-library’\n",
            "(as ‘lib’ is unspecified)\n",
            "\n",
            "also installing the dependencies ‘Rcpp’, ‘RcppTOML’, ‘here’, ‘png’, ‘config’, ‘tfautograph’, ‘reticulate’, ‘tensorflow’, ‘tfruns’, ‘zeallot’\n",
            "\n",
            "\n",
            "Installing package into ‘/usr/local/lib/R/site-library’\n",
            "(as ‘lib’ is unspecified)\n",
            "\n",
            "Installing package into ‘/usr/local/lib/R/site-library’\n",
            "(as ‘lib’ is unspecified)\n",
            "\n",
            "Installing package into ‘/usr/local/lib/R/site-library’\n",
            "(as ‘lib’ is unspecified)\n",
            "\n",
            "Installing package into ‘/usr/local/lib/R/site-library’\n",
            "(as ‘lib’ is unspecified)\n",
            "\n",
            "Installing package into ‘/usr/local/lib/R/site-library’\n",
            "(as ‘lib’ is unspecified)\n",
            "\n",
            "also installing the dependencies ‘textshaping’, ‘conflicted’, ‘jsonlite’, ‘ragg’\n",
            "\n",
            "\n",
            "Warning message in install.packages(\"tidyverse\"):\n",
            "“installation of package ‘textshaping’ had non-zero exit status”\n",
            "Warning message in install.packages(\"tidyverse\"):\n",
            "“installation of package ‘ragg’ had non-zero exit status”\n",
            "Warning message in install.packages(\"tidyverse\"):\n",
            "“installation of package ‘tidyverse’ had non-zero exit status”\n",
            "Installing package into ‘/usr/local/lib/R/site-library’\n",
            "(as ‘lib’ is unspecified)\n",
            "\n",
            "Warning message:\n",
            "“package ‘splines’ is a base package, and should not be updated”\n",
            "Installing package into ‘/usr/local/lib/R/site-library’\n",
            "(as ‘lib’ is unspecified)\n",
            "\n",
            "also installing the dependency ‘assertthat’\n",
            "\n",
            "\n",
            "Installing package into ‘/usr/local/lib/R/site-library’\n",
            "(as ‘lib’ is unspecified)\n",
            "\n",
            "also installing the dependencies ‘plyr’, ‘reshape2’\n",
            "\n",
            "\n",
            "Installing package into ‘/usr/local/lib/R/site-library’\n",
            "(as ‘lib’ is unspecified)\n",
            "\n",
            "Installing package into ‘/usr/local/lib/R/site-library’\n",
            "(as ‘lib’ is unspecified)\n",
            "\n",
            "Installing package into ‘/usr/local/lib/R/site-library’\n",
            "(as ‘lib’ is unspecified)\n",
            "\n",
            "Installing package into ‘/usr/local/lib/R/site-library’\n",
            "(as ‘lib’ is unspecified)\n",
            "\n",
            "Installing package into ‘/usr/local/lib/R/site-library’\n",
            "(as ‘lib’ is unspecified)\n",
            "\n",
            "also installing the dependencies ‘BBmisc’, ‘checkmate’, ‘XML’\n",
            "\n",
            "\n",
            "Installing package into ‘/usr/local/lib/R/site-library’\n",
            "(as ‘lib’ is unspecified)\n",
            "\n"
          ]
        }
      ],
      "source": [
        "install.packages(\"corrplot\")\n",
        "install.packages(\"dplyr\")\n",
        "install.packages(\"tidyr\")\n",
        "install.packages(\"gridExtra\")\n",
        "install.packages(\"ggplot2\")\n",
        "install.packages(\"tibble\")\n",
        "install.packages(\"magrittr\")\n",
        "install.packages(\"locfit\")\n",
        "install.packages(\"keras\")\n",
        "install.packages(\"hexbin\")\n",
        "install.packages(\"MetricsWeighted\")\n",
        "install.packages(\"xgboost\")\n",
        "install.packages(\"lubridate\")\n",
        "install.packages(\"tidyverse\")\n",
        "install.packages(\"splines\")\n",
        "install.packages(\"arrow\")\n",
        "install.packages(\"ggcorrplot\")\n",
        "install.packages(\"patchwork\")\n",
        "install.packages(\"scales\")\n",
        "install.packages(\"glm2\")\n",
        "install.packages(\"withr\")\n",
        "install.packages(\"OpenML\")\n",
        "install.packages(\"purrr\")\n",
        "\n"
      ]
    },
    {
      "cell_type": "code",
      "execution_count": null,
      "metadata": {
        "colab": {
          "base_uri": "https://localhost:8080/"
        },
        "id": "DIdYMWyOAUb0",
        "outputId": "872a3f22-6c28-476f-81da-f076354dad02"
      },
      "outputs": [
        {
          "output_type": "stream",
          "name": "stderr",
          "text": [
            "── \u001b[1mAttaching packages\u001b[22m ─────────────────────────────────────── tidyverse 1.3.1 ──\n",
            "\n",
            "\u001b[32m✔\u001b[39m \u001b[34mggplot2\u001b[39m 3.4.2     \u001b[32m✔\u001b[39m \u001b[34mpurrr  \u001b[39m 1.0.1\n",
            "\u001b[32m✔\u001b[39m \u001b[34mtibble \u001b[39m 3.2.1     \u001b[32m✔\u001b[39m \u001b[34mdplyr  \u001b[39m 1.1.2\n",
            "\u001b[32m✔\u001b[39m \u001b[34mtidyr  \u001b[39m 1.3.0     \u001b[32m✔\u001b[39m \u001b[34mstringr\u001b[39m 1.5.0\n",
            "\u001b[32m✔\u001b[39m \u001b[34mreadr  \u001b[39m 2.1.4     \u001b[32m✔\u001b[39m \u001b[34mforcats\u001b[39m 1.0.0\n",
            "\n",
            "── \u001b[1mConflicts\u001b[22m ────────────────────────────────────────── tidyverse_conflicts() ──\n",
            "\u001b[31m✖\u001b[39m \u001b[34mdplyr\u001b[39m::\u001b[32mfilter()\u001b[39m masks \u001b[34mstats\u001b[39m::filter()\n",
            "\u001b[31m✖\u001b[39m \u001b[34mdplyr\u001b[39m::\u001b[32mlag()\u001b[39m    masks \u001b[34mstats\u001b[39m::lag()\n",
            "\n",
            "\n",
            "Attaching package: ‘lubridate’\n",
            "\n",
            "\n",
            "The following objects are masked from ‘package:base’:\n",
            "\n",
            "    date, intersect, setdiff, union\n",
            "\n",
            "\n",
            "\n",
            "Attaching package: ‘xgboost’\n",
            "\n",
            "\n",
            "The following object is masked from ‘package:dplyr’:\n",
            "\n",
            "    slice\n",
            "\n",
            "\n",
            "\n",
            "Attaching package: ‘arrow’\n",
            "\n",
            "\n",
            "The following object is masked from ‘package:lubridate’:\n",
            "\n",
            "    duration\n",
            "\n",
            "\n",
            "The following object is masked from ‘package:utils’:\n",
            "\n",
            "    timestamp\n",
            "\n",
            "\n",
            "\n",
            "Attaching package: ‘scales’\n",
            "\n",
            "\n",
            "The following object is masked from ‘package:purrr’:\n",
            "\n",
            "    discard\n",
            "\n",
            "\n",
            "The following object is masked from ‘package:readr’:\n",
            "\n",
            "    col_factor\n",
            "\n",
            "\n",
            "locfit 1.5-9.7 \t 2023-01-02\n",
            "\n",
            "\n",
            "Attaching package: ‘locfit’\n",
            "\n",
            "\n",
            "The following object is masked from ‘package:purrr’:\n",
            "\n",
            "    none\n",
            "\n",
            "\n",
            "\n",
            "Attaching package: ‘magrittr’\n",
            "\n",
            "\n",
            "The following object is masked from ‘package:arrow’:\n",
            "\n",
            "    is_in\n",
            "\n",
            "\n",
            "The following object is masked from ‘package:purrr’:\n",
            "\n",
            "    set_names\n",
            "\n",
            "\n",
            "The following object is masked from ‘package:tidyr’:\n",
            "\n",
            "    extract\n",
            "\n",
            "\n",
            "\n",
            "Attaching package: ‘gridExtra’\n",
            "\n",
            "\n",
            "The following object is masked from ‘package:dplyr’:\n",
            "\n",
            "    combine\n",
            "\n",
            "\n",
            "corrplot 0.92 loaded\n",
            "\n",
            "Warning message in RNGkind(\"Mersenne-Twister\", \"Inversion\", \"Rounding\"):\n",
            "“non-uniform 'Rounding' sampler used”\n"
          ]
        }
      ],
      "source": [
        "library(tidyverse)\n",
        "library(lubridate)\n",
        "library(hexbin)\n",
        "library(MetricsWeighted)\n",
        "library(splines)\n",
        "library(xgboost)\n",
        "library(arrow)\n",
        "library(ggcorrplot)\n",
        "library(patchwork)\n",
        "library(scales)\n",
        "library(glm2)\n",
        "library(withr)\n",
        "library(OpenML)\n",
        "library(keras)\n",
        "library(locfit)\n",
        "library(magrittr)\n",
        "library(dplyr)\n",
        "library(tibble)\n",
        "library(purrr)\n",
        "library(ggplot2)\n",
        "library(gridExtra)\n",
        "library(tidyr)\n",
        "library(corrplot)\n",
        "RNGversion(\"3.5.0\")\n"
      ]
    },
    {
      "cell_type": "code",
      "execution_count": null,
      "metadata": {
        "colab": {
          "base_uri": "https://localhost:8080/"
        },
        "id": "aXvQhqs5mgly",
        "outputId": "230f9cd9-16e6-48c2-fe2a-be4deab9e200"
      },
      "outputs": [
        {
          "output_type": "stream",
          "name": "stderr",
          "text": [
            "Downloading GitHub repo openml/openml-r@HEAD\n",
            "\n"
          ]
        },
        {
          "output_type": "stream",
          "name": "stdout",
          "text": [
            "curl   (5.0.0  -> 5.0.1 ) [CRAN]\n",
            "digest (0.6.30 -> 0.6.31) [CRAN]\n"
          ]
        },
        {
          "output_type": "stream",
          "name": "stderr",
          "text": [
            "Installing 2 packages: curl, digest\n",
            "\n",
            "Installing packages into ‘/usr/local/lib/R/site-library’\n",
            "(as ‘lib’ is unspecified)\n",
            "\n"
          ]
        },
        {
          "output_type": "stream",
          "name": "stdout",
          "text": [
            "\u001b[36m──\u001b[39m \u001b[36mR CMD build\u001b[39m \u001b[36m─────────────────────────────────────────────────────────────────\u001b[39m\n",
            "* checking for file ‘/tmp/RtmppIihpR/remotesdc1c3ee82f/openml-openml-r-530b00d/DESCRIPTION’ ... OK\n",
            "* preparing ‘OpenML’:\n",
            "* checking DESCRIPTION meta-information ... OK\n",
            "* checking for LF line-endings in source and make files and shell scripts\n",
            "* checking for empty or unneeded directories\n",
            "Removed empty directory ‘OpenML/attic’\n",
            "Removed empty directory ‘OpenML/doc’\n",
            "Removed empty directory ‘OpenML/man-roxygen’\n",
            "Removed empty directory ‘OpenML/notebooks’\n",
            "* building ‘OpenML_1.12.tar.gz’\n",
            "\n"
          ]
        },
        {
          "output_type": "stream",
          "name": "stderr",
          "text": [
            "Installing package into ‘/usr/local/lib/R/site-library’\n",
            "(as ‘lib’ is unspecified)\n",
            "\n",
            "Installing packages into ‘/usr/local/lib/R/site-library’\n",
            "(as ‘lib’ is unspecified)\n",
            "\n",
            "also installing the dependencies ‘RWekajars’, ‘rJava’\n",
            "\n",
            "\n",
            "Warning message in install.packages(c(\"farff\", \"RWeka\")):\n",
            "“installation of package ‘rJava’ had non-zero exit status”\n",
            "Warning message in install.packages(c(\"farff\", \"RWeka\")):\n",
            "“installation of package ‘RWekajars’ had non-zero exit status”\n",
            "Warning message in install.packages(c(\"farff\", \"RWeka\")):\n",
            "“installation of package ‘RWeka’ had non-zero exit status”\n",
            "Downloading from 'http://www.openml.org/api/v1/data/42876' to '/tmp/RtmppIihpR/cache/datasets/42876/description.xml'.\n",
            "\n",
            "Downloading from 'https://api.openml.org/data/v1/download/22045494/WorkersCompensation.arff' to '/tmp/RtmppIihpR/cache/datasets/42876/dataset.arff'\n",
            "\n"
          ]
        }
      ],
      "source": [
        "devtools::install_github(\"openml/openml-r\")\n",
        "options(encoding = 'UTF-8')\n",
        "install.packages(c(\"farff\", \"RWeka\"))\n",
        "\n",
        "  df_origin <- getOMLDataSet(data.id = 42876L)\n",
        "\n"
      ]
    },
    {
      "cell_type": "code",
      "execution_count": null,
      "metadata": {
        "colab": {
          "base_uri": "https://localhost:8080/"
        },
        "id": "agfAIRur546F",
        "outputId": "6903bbba-7ae9-49cd-bb1d-e69be31a8f8a"
      },
      "outputs": [
        {
          "output_type": "stream",
          "name": "stderr",
          "text": [
            "Installing packages into ‘/usr/local/lib/R/site-library’\n",
            "(as ‘lib’ is unspecified)\n",
            "\n",
            "also installing the dependencies ‘RWekajars’, ‘rJava’\n",
            "\n",
            "\n",
            "Warning message in install.packages(c(\"farff\", \"RWeka\")):\n",
            "“installation of package ‘rJava’ had non-zero exit status”\n",
            "Warning message in install.packages(c(\"farff\", \"RWeka\")):\n",
            "“installation of package ‘RWekajars’ had non-zero exit status”\n",
            "Warning message in install.packages(c(\"farff\", \"RWeka\")):\n",
            "“installation of package ‘RWeka’ had non-zero exit status”\n",
            "Data '42876' file 'description.xml' found in cache.\n",
            "\n",
            "Data '42876' file 'dataset.arff' found in cache.\n",
            "\n"
          ]
        }
      ],
      "source": [
        "install.packages(c(\"farff\", \"RWeka\"))\n",
        "\n",
        "  df_origin <- getOMLDataSet(data.id = 42876L)\n"
      ]
    },
    {
      "cell_type": "code",
      "execution_count": null,
      "metadata": {
        "colab": {
          "base_uri": "https://localhost:8080/",
          "height": 165
        },
        "id": "8IAWnjFRlrOM",
        "outputId": "da4c8cdc-5f9b-400e-dd57-a4cfd79550a7"
      },
      "outputs": [
        {
          "output_type": "error",
          "ename": "ERROR",
          "evalue": "ignored",
          "traceback": [
            "Error: `path` does not exist: ‘/content/X2.xlsx’\nTraceback:\n",
            "1. read_excel(\"/content/X2.xlsx\")",
            "2. check_file(path)",
            "3. stop(\"`path` does not exist: \", sQuote(path), call. = FALSE)"
          ]
        }
      ],
      "source": [
        "library(\"readxl\")\n",
        "data1=read_excel('/content/X2.xlsx')\n",
        "\n",
        "colnames(data1)\n"
      ]
    },
    {
      "cell_type": "code",
      "source": [
        "df <- df %>%\n",
        "  filter(WeeklyPay >= 200, HoursWorkedPerWeek >= 20) %>%\n",
        "  mutate(\n",
        "    DateTimeOfAccident = ymd_hms(DateTimeOfAccident),\n",
        "    DateOfAccident = as_date(DateTimeOfAccident),\n",
        "    DateReported = ymd(DateReported),\n",
        "    LogDelay = log1p(as.numeric(DateReported - DateOfAccident)),\n",
        "    HourOfAccident = hour(DateTimeOfAccident),\n",
        "    WeekDayOfAccident = factor(wday(DateOfAccident, week_start = 1)),\n",
        "    LogWeeklyPay = log1p(WeeklyPay),\n",
        "    LogInitial = log(InitialCaseEstimate),\n",
        " #   DependentsOther = as.numeric(DependentsOther >= 1),\n",
        "    DependentChildren = pmin(4, DependentChildren),\n",
        "    HoursWorkedPerWeek = pmin(60, HoursWorkedPerWeek)\n",
        " ) %>%\n",
        "  mutate_at(c(\"Gender\", \"MaritalStatus\", \"PartTimeFullTime\"), as.factor) %>%\n",
        "  rename(HoursPerWeek = HoursWorkedPerWeek)\n",
        "\n",
        "x_continuous <- c(\"Age\", \"LogWeeklyPay\", \"LogInitial\", \"HourOfAccident\",\n",
        "                 \"HoursPerWeek\", \"LogDelay\")\n",
        "x_discrete <- c(\"Gender\", \"MaritalStatus\", \"PartTimeFullTime\",\n",
        "                \"DependentChildren\", \"DaysWorkedPerWeek\", \"WeekDayOfAccident\")\n",
        "x_vars <- c(x_continuous, x_discrete)\n",
        "y_var <- \"UltimateIncurredClaimCost\"\n",
        "\n",
        "df %>%\n",
        "  select(all_of(y_var), all_of(x_vars)) %>%\n",
        "  print(n = 10, width = 80)"
      ],
      "metadata": {
        "id": "QjVFJrJRXSRD",
        "colab": {
          "base_uri": "https://localhost:8080/",
          "height": 658
        },
        "outputId": "612018ee-3c54-4e3e-de37-74356ea65e7a"
      },
      "execution_count": null,
      "outputs": [
        {
          "output_type": "error",
          "ename": "ERROR",
          "evalue": "ignored",
          "traceback": [
            "Error in UseMethod(\"filter\"): no applicable method for 'filter' applied to an object of class \"function\"\nTraceback:\n",
            "1. df %>% filter(WeeklyPay >= 200, HoursWorkedPerWeek >= 20) %>% \n .     mutate(DateTimeOfAccident = ymd_hms(DateTimeOfAccident), \n .         DateOfAccident = as_date(DateTimeOfAccident), DateReported = ymd(DateReported), \n .         LogDelay = log1p(as.numeric(DateReported - DateOfAccident)), \n .         HourOfAccident = hour(DateTimeOfAccident), WeekDayOfAccident = factor(wday(DateOfAccident, \n .             week_start = 1)), LogWeeklyPay = log1p(WeeklyPay), \n .         LogInitial = log(InitialCaseEstimate), DependentChildren = pmin(4, \n .             DependentChildren), HoursWorkedPerWeek = pmin(60, \n .             HoursWorkedPerWeek)) %>% mutate_at(c(\"Gender\", \"MaritalStatus\", \n .     \"PartTimeFullTime\"), as.factor) %>% rename(HoursPerWeek = HoursWorkedPerWeek)",
            "2. rename(., HoursPerWeek = HoursWorkedPerWeek)",
            "3. mutate_at(., c(\"Gender\", \"MaritalStatus\", \"PartTimeFullTime\"), \n .     as.factor)",
            "4. manip_at(.tbl, .vars, .funs, enquo(.funs), caller_env(), .include_group_vars = TRUE, \n .     ..., .caller = \"mutate_at\")",
            "5. tbl_at_syms(.tbl, .vars, .include_group_vars = .include_group_vars, \n .     error_call = error_call)",
            "6. tbl_at_vars(tbl, vars, .include_group_vars = .include_group_vars, \n .     error_call = error_call)",
            "7. tbl_vars(tbl)",
            "8. new_sel_vars(tbl_vars_dispatch(x), group_vars(x))",
            "9. structure(vars, groups = group_vars, class = c(\"dplyr_sel_vars\", \n .     \"character\"))",
            "10. tbl_vars_dispatch(x)",
            "11. mutate(., DateTimeOfAccident = ymd_hms(DateTimeOfAccident), DateOfAccident = as_date(DateTimeOfAccident), \n  .     DateReported = ymd(DateReported), LogDelay = log1p(as.numeric(DateReported - \n  .         DateOfAccident)), HourOfAccident = hour(DateTimeOfAccident), \n  .     WeekDayOfAccident = factor(wday(DateOfAccident, week_start = 1)), \n  .     LogWeeklyPay = log1p(WeeklyPay), LogInitial = log(InitialCaseEstimate), \n  .     DependentChildren = pmin(4, DependentChildren), HoursWorkedPerWeek = pmin(60, \n  .         HoursWorkedPerWeek))",
            "12. filter(., WeeklyPay >= 200, HoursWorkedPerWeek >= 20)"
          ]
        }
      ]
    },
    {
      "cell_type": "code",
      "execution_count": null,
      "metadata": {
        "id": "gDgWfJlyFxn0",
        "colab": {
          "base_uri": "https://localhost:8080/",
          "height": 190
        },
        "outputId": "635a7632-dedd-4281-d93e-0e56a6bcb9f4"
      },
      "outputs": [
        {
          "output_type": "stream",
          "name": "stderr",
          "text": [
            "Warning message:\n",
            "“\u001b[1m\u001b[22mThere was 1 warning in `mutate()`.\n",
            "\u001b[1m\u001b[22m\u001b[36mℹ\u001b[39m In argument: `LogDelay = log1p(as.numeric(DateReported - DateOfAccident))`.\n",
            "Caused by warning:\n",
            "\u001b[33m!\u001b[39m Incompatible methods (\"-.POSIXt\", \"-.Date\") for \"-\"”\n"
          ]
        },
        {
          "output_type": "error",
          "ename": "ERROR",
          "evalue": "ignored",
          "traceback": [
            "Error in data1 %>% mutate(DateOfAccident = as_date(DateTimeOfAccident), : could not find function \"%>%<-\"\nTraceback:\n"
          ]
        }
      ],
      "source": [
        "data2 <- data1  %>%\n",
        "  mutate(\n",
        "  DateOfAccident = as_date(DateTimeOfAccident),\n",
        "  LogDelay  = log1p(as.numeric(DateReported - DateOfAccident)),\n",
        "  LogHourPay = log1p(H_MEAN2),\n",
        "  LogYearPay = log1p(A_MEAN2),\n",
        "  LogInitial = log(InitialCaseEstimate))  %>%\n",
        "\n",
        "x_continuous <- c( \"LogHourPay\",\"LogYearPay\", \"LogInitial\",  \"LogDelay\")\n",
        "x_discrete <- c(\"Age\")\n",
        "x_vars <- c(x_continuous, x_discrete)\n",
        "y_var <- \"UltimateIncurredClaimCost\"\n",
        "data1 %>%\n",
        "  select(all_of(y_var), all_of(x_vars))\n",
        "  print(n = 10, width = 80)\n"
      ]
    },
    {
      "cell_type": "code",
      "source": [
        "data2 <- data1 %>%\n",
        "  mutate(\n",
        "    DateOfAccident = as_date(DateTimeOfAccident),\n",
        "    LogDelay = log1p(as.numeric(DateReported - DateOfAccident)),\n",
        "    LogHourPay = log1p(H_MEAN2),\n",
        "    LogYearPay = log1p(A_MEAN2),\n",
        "    LogInitial = log(InitialCaseEstimate)\n",
        "  )\n",
        "\n",
        "x_continuous <- c(\"LogHourPay\", \"LogYearPay\", \"LogInitial\", \"LogDelay\")\n",
        "x_discrete <- c(\"Age\")\n",
        "x_vars <- c(x_continuous, x_discrete)\n",
        "y_var <- \"UltimateIncurredClaimCost\"\n",
        "\n",
        "data2_subset <- data2 %>%\n",
        "  select(all_of(y_var), all_of(x_vars))\n",
        "\n",
        "print(data2_subset, n = 10, width = 80)\n"
      ],
      "metadata": {
        "colab": {
          "base_uri": "https://localhost:8080/",
          "height": 1000
        },
        "id": "TB__Wk9ona3z",
        "outputId": "d5b935a4-55d5-4e6a-cfd8-5059ff36e7fe"
      },
      "execution_count": null,
      "outputs": [
        {
          "output_type": "stream",
          "name": "stderr",
          "text": [
            "Warning message:\n",
            "“\u001b[1m\u001b[22mThere was 1 warning in `mutate()`.\n",
            "\u001b[1m\u001b[22m\u001b[36mℹ\u001b[39m In argument: `LogDelay = log1p(as.numeric(DateReported - DateOfAccident))`.\n",
            "Caused by warning:\n",
            "\u001b[33m!\u001b[39m Incompatible methods (\"-.POSIXt\", \"-.Date\") for \"-\"”\n"
          ]
        },
        {
          "output_type": "error",
          "ename": "ERROR",
          "evalue": "ignored",
          "traceback": [
            "\u001b[1m\u001b[33mError\u001b[39m in `all_of()`:\u001b[22m\n\u001b[33m!\u001b[39m Can't subset columns that don't exist.\n\u001b[31m✖\u001b[39m Column `UltimateIncurredClaimCost` doesn't exist.\nTraceback:\n",
            "1. data2 %>% select(all_of(y_var), all_of(x_vars))",
            "2. select(., all_of(y_var), all_of(x_vars))",
            "3. select.data.frame(., all_of(y_var), all_of(x_vars))",
            "4. tidyselect::eval_select(expr(c(...)), data = .data, error_call = error_call)",
            "5. eval_select_impl(data, names(data), as_quosure(expr, env), include = include, \n .     exclude = exclude, strict = strict, name_spec = name_spec, \n .     allow_rename = allow_rename, allow_empty = allow_empty, allow_predicates = allow_predicates, \n .     error_call = error_call, )",
            "6. with_subscript_errors(out <- vars_select_eval(vars, expr, strict = strict, \n .     data = x, name_spec = name_spec, uniquely_named = uniquely_named, \n .     allow_rename = allow_rename, allow_empty = allow_empty, allow_predicates = allow_predicates, \n .     type = type, error_call = error_call), type = type)",
            "7. try_fetch(expr, vctrs_error_subscript = function(cnd) {\n .     cnd$subscript_action <- subscript_action(type)\n .     cnd$subscript_elt <- \"column\"\n .     cnd_signal(cnd)\n . })",
            "8. withCallingHandlers(expr, condition = function(cnd) {\n .     {\n .         .__handler_frame__. <- TRUE\n .         .__setup_frame__. <- frame\n .         if (inherits(cnd, \"message\")) {\n .             except <- c(\"warning\", \"error\")\n .         }\n .         else if (inherits(cnd, \"warning\")) {\n .             except <- \"error\"\n .         }\n .         else {\n .             except <- \"\"\n .         }\n .     }\n .     while (!is_null(cnd)) {\n .         if (inherits(cnd, \"vctrs_error_subscript\")) {\n .             out <- handlers[[1L]](cnd)\n .             if (!inherits(out, \"rlang_zap\")) \n .                 throw(out)\n .         }\n .         inherit <- .subset2(.subset2(cnd, \"rlang\"), \"inherit\")\n .         if (is_false(inherit)) {\n .             return()\n .         }\n .         cnd <- .subset2(cnd, \"parent\")\n .     }\n . })",
            "9. vars_select_eval(vars, expr, strict = strict, data = x, name_spec = name_spec, \n .     uniquely_named = uniquely_named, allow_rename = allow_rename, \n .     allow_empty = allow_empty, allow_predicates = allow_predicates, \n .     type = type, error_call = error_call)",
            "10. walk_data_tree(expr, data_mask, context_mask)",
            "11. eval_c(expr, data_mask, context_mask)",
            "12. reduce_sels(node, data_mask, context_mask, init = init)",
            "13. walk_data_tree(new, data_mask, context_mask)",
            "14. eval_context(expr, context_mask, call = error_call)",
            "15. with_chained_errors(eval_tidy(as_quosure(expr, env), context_mask), \n  .     call = call, eval_expr = expr)",
            "16. try_fetch(expr, error = function(cnd) {\n  .     eval_expr <- quo_squash(eval_expr)\n  .     if (!is_call(eval_expr) || identical(cnd[[\"call\"]], call2(eval_expr[[1]]))) {\n  .         msg <- \"\"\n  .     }\n  .     else {\n  .         code <- as_label(eval_expr)\n  .         msg <- cli::format_inline(\"Problem while evaluating {.code {code}}.\")\n  .     }\n  .     abort(msg, call = call, parent = cnd)\n  . })",
            "17. tryCatch(withCallingHandlers(expr, condition = function(cnd) {\n  .     {\n  .         .__handler_frame__. <- TRUE\n  .         .__setup_frame__. <- frame\n  .         if (inherits(cnd, \"message\")) {\n  .             except <- c(\"warning\", \"error\")\n  .         }\n  .         else if (inherits(cnd, \"warning\")) {\n  .             except <- \"error\"\n  .         }\n  .         else {\n  .             except <- \"\"\n  .         }\n  .     }\n  .     while (!is_null(cnd)) {\n  .         if (inherits(cnd, \"error\")) {\n  .             out <- handlers[[1L]](cnd)\n  .             if (!inherits(out, \"rlang_zap\")) \n  .                 throw(out)\n  .         }\n  .         inherit <- .subset2(.subset2(cnd, \"rlang\"), \"inherit\")\n  .         if (is_false(inherit)) {\n  .             return()\n  .         }\n  .         cnd <- .subset2(cnd, \"parent\")\n  .     }\n  . }), stackOverflowError = handlers[[1L]])",
            "18. tryCatchList(expr, classes, parentenv, handlers)",
            "19. tryCatchOne(expr, names, parentenv, handlers[[1L]])",
            "20. doTryCatch(return(expr), name, parentenv, handler)",
            "21. withCallingHandlers(expr, condition = function(cnd) {\n  .     {\n  .         .__handler_frame__. <- TRUE\n  .         .__setup_frame__. <- frame\n  .         if (inherits(cnd, \"message\")) {\n  .             except <- c(\"warning\", \"error\")\n  .         }\n  .         else if (inherits(cnd, \"warning\")) {\n  .             except <- \"error\"\n  .         }\n  .         else {\n  .             except <- \"\"\n  .         }\n  .     }\n  .     while (!is_null(cnd)) {\n  .         if (inherits(cnd, \"error\")) {\n  .             out <- handlers[[1L]](cnd)\n  .             if (!inherits(out, \"rlang_zap\")) \n  .                 throw(out)\n  .         }\n  .         inherit <- .subset2(.subset2(cnd, \"rlang\"), \"inherit\")\n  .         if (is_false(inherit)) {\n  .             return()\n  .         }\n  .         cnd <- .subset2(cnd, \"parent\")\n  .     }\n  . })",
            "22. eval_tidy(as_quosure(expr, env), context_mask)",
            "23. all_of(y_var)",
            "24. as_indices_impl(x, vars = vars, strict = TRUE)",
            "25. chr_as_locations(x, vars, call = call, arg = arg)",
            "26. vctrs::vec_as_location(x, n = length(vars), names = vars, call = call, \n  .     arg = arg)",
            "27. (function () \n  . stop_subscript_oob(i = i, subscript_type = subscript_type, names = names, \n  .     subscript_action = subscript_action, subscript_arg = subscript_arg, \n  .     call = call))()",
            "28. stop_subscript_oob(i = i, subscript_type = subscript_type, names = names, \n  .     subscript_action = subscript_action, subscript_arg = subscript_arg, \n  .     call = call)",
            "29. stop_subscript(class = \"vctrs_error_subscript_oob\", i = i, subscript_type = subscript_type, \n  .     ..., call = call)",
            "30. abort(class = c(class, \"vctrs_error_subscript\"), i = i, ..., \n  .     call = call)",
            "31. signal_abort(cnd, .file)",
            "32. signalCondition(cnd)",
            "33. (function (cnd) \n  . {\n  .     {\n  .         .__handler_frame__. <- TRUE\n  .         .__setup_frame__. <- frame\n  .         if (inherits(cnd, \"message\")) {\n  .             except <- c(\"warning\", \"error\")\n  .         }\n  .         else if (inherits(cnd, \"warning\")) {\n  .             except <- \"error\"\n  .         }\n  .         else {\n  .             except <- \"\"\n  .         }\n  .     }\n  .     while (!is_null(cnd)) {\n  .         if (inherits(cnd, \"error\")) {\n  .             out <- handlers[[1L]](cnd)\n  .             if (!inherits(out, \"rlang_zap\")) \n  .                 throw(out)\n  .         }\n  .         inherit <- .subset2(.subset2(cnd, \"rlang\"), \"inherit\")\n  .         if (is_false(inherit)) {\n  .             return()\n  .         }\n  .         cnd <- .subset2(cnd, \"parent\")\n  .     }\n  . })(structure(list(message = \"\", trace = structure(list(call = list(\n  .     IRkernel::main(), kernel$run(), handle_shell(), executor$execute(msg), \n  .     tryCatch(evaluate(request$content$code, envir = .GlobalEnv, \n  .         output_handler = oh, stop_on_error = 1L), interrupt = function(cond) {\n  .         log_debug(\"Interrupt during execution\")\n  .         interrupted <<- TRUE\n  .     }, error = .self$handle_error), tryCatchList(expr, classes, \n  .         parentenv, handlers), tryCatchOne(tryCatchList(expr, \n  .         names[-nh], parentenv, handlers[-nh]), names[nh], parentenv, \n  .         handlers[[nh]]), doTryCatch(return(expr), name, parentenv, \n  .         handler), tryCatchList(expr, names[-nh], parentenv, handlers[-nh]), \n  .     tryCatchOne(expr, names, parentenv, handlers[[1L]]), doTryCatch(return(expr), \n  .         name, parentenv, handler), evaluate(request$content$code, \n  .         envir = .GlobalEnv, output_handler = oh, stop_on_error = 1L), \n  .     evaluate_call(expr, parsed$src[[i]], envir = envir, enclos = enclos, \n  .         debug = debug, last = i == length(out), use_try = stop_on_error != \n  .             2L, keep_warning = keep_warning, keep_message = keep_message, \n  .         log_echo = log_echo, log_warning = log_warning, output_handler = output_handler, \n  .         include_timing = include_timing), timing_fn(handle(ev <- withCallingHandlers(withVisible(eval_with_user_handlers(expr, \n  .         envir, enclos, user_handlers)), warning = wHandler, error = eHandler, \n  .         message = mHandler))), handle(ev <- withCallingHandlers(withVisible(eval_with_user_handlers(expr, \n  .         envir, enclos, user_handlers)), warning = wHandler, error = eHandler, \n  .         message = mHandler)), try(f, silent = TRUE), tryCatch(expr, \n  .         error = function(e) {\n  .             call <- conditionCall(e)\n  .             if (!is.null(call)) {\n  .                 if (identical(call[[1L]], quote(doTryCatch))) \n  .                   call <- sys.call(-4L)\n  .                 dcall <- deparse(call, nlines = 1L)\n  .                 prefix <- paste(\"Error in\", dcall, \": \")\n  .                 LONG <- 75L\n  .                 sm <- strsplit(conditionMessage(e), \"\\n\")[[1L]]\n  .                 w <- 14L + nchar(dcall, type = \"w\") + nchar(sm[1L], \n  .                   type = \"w\")\n  .                 if (is.na(w)) \n  .                   w <- 14L + nchar(dcall, type = \"b\") + nchar(sm[1L], \n  .                     type = \"b\")\n  .                 if (w > LONG) \n  .                   prefix <- paste0(prefix, \"\\n  \")\n  .             }\n  .             else prefix <- \"Error : \"\n  .             msg <- paste0(prefix, conditionMessage(e), \"\\n\")\n  .             .Internal(seterrmessage(msg[1L]))\n  .             if (!silent && isTRUE(getOption(\"show.error.messages\"))) {\n  .                 cat(msg, file = outFile)\n  .                 .Internal(printDeferredWarnings())\n  .             }\n  .             invisible(structure(msg, class = \"try-error\", condition = e))\n  .         }), tryCatchList(expr, classes, parentenv, handlers), \n  .     tryCatchOne(expr, names, parentenv, handlers[[1L]]), doTryCatch(return(expr), \n  .         name, parentenv, handler), withCallingHandlers(withVisible(eval_with_user_handlers(expr, \n  .         envir, enclos, user_handlers)), warning = wHandler, error = eHandler, \n  .         message = mHandler), withVisible(eval_with_user_handlers(expr, \n  .         envir, enclos, user_handlers)), eval_with_user_handlers(expr, \n  .         envir, enclos, user_handlers), eval(expr, envir, enclos), \n  .     eval(expr, envir, enclos), data2 %>% select(all_of(y_var), \n  .         all_of(x_vars)), select(., all_of(y_var), all_of(x_vars)), \n  .     select.data.frame(., all_of(y_var), all_of(x_vars)), tidyselect::eval_select(expr(c(...)), \n  .         data = .data, error_call = error_call), eval_select_impl(data, \n  .         names(data), as_quosure(expr, env), include = include, \n  .         exclude = exclude, strict = strict, name_spec = name_spec, \n  .         allow_rename = allow_rename, allow_empty = allow_empty, \n  .         allow_predicates = allow_predicates, error_call = error_call, \n  .         ), with_subscript_errors(out <- vars_select_eval(vars, \n  .         expr, strict = strict, data = x, name_spec = name_spec, \n  .         uniquely_named = uniquely_named, allow_rename = allow_rename, \n  .         allow_empty = allow_empty, allow_predicates = allow_predicates, \n  .         type = type, error_call = error_call), type = type), \n  .     try_fetch(expr, vctrs_error_subscript = function(cnd) {\n  .         cnd$subscript_action <- subscript_action(type)\n  .         cnd$subscript_elt <- \"column\"\n  .         cnd_signal(cnd)\n  .     }), withCallingHandlers(expr, condition = function(cnd) {\n  .         {\n  .             .__handler_frame__. <- TRUE\n  .             .__setup_frame__. <- frame\n  .             if (inherits(cnd, \"message\")) {\n  .                 except <- c(\"warning\", \"error\")\n  .             }\n  .             else if (inherits(cnd, \"warning\")) {\n  .                 except <- \"error\"\n  .             }\n  .             else {\n  .                 except <- \"\"\n  .             }\n  .         }\n  .         while (!is_null(cnd)) {\n  .             if (inherits(cnd, \"vctrs_error_subscript\")) {\n  .                 out <- handlers[[1L]](cnd)\n  .                 if (!inherits(out, \"rlang_zap\")) \n  .                   throw(out)\n  .             }\n  .             inherit <- .subset2(.subset2(cnd, \"rlang\"), \"inherit\")\n  .             if (is_false(inherit)) {\n  .                 return()\n  .             }\n  .             cnd <- .subset2(cnd, \"parent\")\n  .         }\n  .     }), vars_select_eval(vars, expr, strict = strict, data = x, \n  .         name_spec = name_spec, uniquely_named = uniquely_named, \n  .         allow_rename = allow_rename, allow_empty = allow_empty, \n  .         allow_predicates = allow_predicates, type = type, error_call = error_call), \n  .     walk_data_tree(expr, data_mask, context_mask), eval_c(expr, \n  .         data_mask, context_mask), reduce_sels(node, data_mask, \n  .         context_mask, init = init), walk_data_tree(new, data_mask, \n  .         context_mask), eval_context(expr, context_mask, call = error_call), \n  .     with_chained_errors(eval_tidy(as_quosure(expr, env), context_mask), \n  .         call = call, eval_expr = expr), try_fetch(expr, error = function(cnd) {\n  .         eval_expr <- quo_squash(eval_expr)\n  .         if (!is_call(eval_expr) || identical(cnd[[\"call\"]], call2(eval_expr[[1]]))) {\n  .             msg <- \"\"\n  .         }\n  .         else {\n  .             code <- as_label(eval_expr)\n  .             msg <- cli::format_inline(\"Problem while evaluating {.code {code}}.\")\n  .         }\n  .         abort(msg, call = call, parent = cnd)\n  .     }), tryCatch(withCallingHandlers(expr, condition = function(cnd) {\n  .         {\n  .             .__handler_frame__. <- TRUE\n  .             .__setup_frame__. <- frame\n  .             if (inherits(cnd, \"message\")) {\n  .                 except <- c(\"warning\", \"error\")\n  .             }\n  .             else if (inherits(cnd, \"warning\")) {\n  .                 except <- \"error\"\n  .             }\n  .             else {\n  .                 except <- \"\"\n  .             }\n  .         }\n  .         while (!is_null(cnd)) {\n  .             if (inherits(cnd, \"error\")) {\n  .                 out <- handlers[[1L]](cnd)\n  .                 if (!inherits(out, \"rlang_zap\")) \n  .                   throw(out)\n  .             }\n  .             inherit <- .subset2(.subset2(cnd, \"rlang\"), \"inherit\")\n  .             if (is_false(inherit)) {\n  .                 return()\n  .             }\n  .             cnd <- .subset2(cnd, \"parent\")\n  .         }\n  .     }), stackOverflowError = handlers[[1L]]), tryCatchList(expr, \n  .         classes, parentenv, handlers), tryCatchOne(expr, names, \n  .         parentenv, handlers[[1L]]), doTryCatch(return(expr), \n  .         name, parentenv, handler), withCallingHandlers(expr, \n  .         condition = function(cnd) {\n  .             {\n  .                 .__handler_frame__. <- TRUE\n  .                 .__setup_frame__. <- frame\n  .                 if (inherits(cnd, \"message\")) {\n  .                   except <- c(\"warning\", \"error\")\n  .                 }\n  .                 else if (inherits(cnd, \"warning\")) {\n  .                   except <- \"error\"\n  .                 }\n  .                 else {\n  .                   except <- \"\"\n  .                 }\n  .             }\n  .             while (!is_null(cnd)) {\n  .                 if (inherits(cnd, \"error\")) {\n  .                   out <- handlers[[1L]](cnd)\n  .                   if (!inherits(out, \"rlang_zap\")) \n  .                     throw(out)\n  .                 }\n  .                 inherit <- .subset2(.subset2(cnd, \"rlang\"), \"inherit\")\n  .                 if (is_false(inherit)) {\n  .                   return()\n  .                 }\n  .                 cnd <- .subset2(cnd, \"parent\")\n  .             }\n  .         }), eval_tidy(as_quosure(expr, env), context_mask), all_of(y_var), \n  .     as_indices_impl(x, vars = vars, strict = TRUE), chr_as_locations(x, \n  .         vars, call = call, arg = arg), vctrs::vec_as_location(x, \n  .         n = length(vars), names = vars, call = call, arg = arg), \n  .     `<fn>`(), stop_subscript_oob(i = i, subscript_type = subscript_type, \n  .         names = names, subscript_action = subscript_action, subscript_arg = subscript_arg, \n  .         call = call), stop_subscript(class = \"vctrs_error_subscript_oob\", \n  .         i = i, subscript_type = subscript_type, ..., call = call), \n  .     abort(class = c(class, \"vctrs_error_subscript\"), i = i, ..., \n  .         call = call)), parent = c(0L, 1L, 2L, 3L, 4L, 5L, 6L, \n  . 7L, 6L, 9L, 10L, 4L, 12L, 13L, 13L, 15L, 16L, 17L, 18L, 19L, \n  . 13L, 13L, 13L, 23L, 24L, 0L, 0L, 0L, 28L, 29L, 30L, 31L, 32L, \n  . 30L, 34L, 35L, 36L, 37L, 38L, 39L, 40L, 41L, 42L, 43L, 44L, 41L, \n  . 39L, 0L, 48L, 49L, 50L, 0L, 52L, 53L, 54L), visible = c(TRUE, \n  . TRUE, TRUE, TRUE, TRUE, TRUE, TRUE, TRUE, TRUE, TRUE, TRUE, TRUE, \n  . TRUE, TRUE, TRUE, TRUE, TRUE, TRUE, TRUE, TRUE, TRUE, TRUE, TRUE, \n  . TRUE, TRUE, TRUE, TRUE, TRUE, TRUE, TRUE, TRUE, TRUE, TRUE, TRUE, \n  . TRUE, TRUE, TRUE, TRUE, TRUE, TRUE, TRUE, TRUE, TRUE, TRUE, TRUE, \n  . TRUE, TRUE, TRUE, FALSE, FALSE, FALSE, FALSE, FALSE, FALSE, FALSE\n  . ), namespace = c(\"IRkernel\", NA, \"IRkernel\", NA, \"base\", \"base\", \n  . \"base\", \"base\", \"base\", \"base\", \"base\", \"evaluate\", \"evaluate\", \n  . \"evaluate\", \"evaluate\", \"base\", \"base\", \"base\", \"base\", \"base\", \n  . \"base\", \"base\", \"evaluate\", \"base\", \"base\", NA, \"dplyr\", \"dplyr\", \n  . \"tidyselect\", \"tidyselect\", \"tidyselect\", \"rlang\", \"base\", \"tidyselect\", \n  . \"tidyselect\", \"tidyselect\", \"tidyselect\", \"tidyselect\", \"tidyselect\", \n  . \"tidyselect\", \"rlang\", \"base\", \"base\", \"base\", \"base\", \"base\", \n  . \"rlang\", \"tidyselect\", \"tidyselect\", \"tidyselect\", \"vctrs\", \"vctrs\", \n  . \"vctrs\", \"vctrs\", \"rlang\"), scope = c(\"::\", NA, \"local\", NA, \n  . \"::\", \"local\", \"local\", \"local\", \"local\", \"local\", \"local\", \"::\", \n  . \":::\", \"local\", \"local\", \"::\", \"::\", \"local\", \"local\", \"local\", \n  . \"::\", \"::\", \":::\", \"::\", \"::\", NA, \"::\", \":::\", \"::\", \":::\", \n  . \":::\", \"::\", \"::\", \":::\", \":::\", \":::\", \":::\", \":::\", \":::\", \n  . \":::\", \"::\", \"::\", \"local\", \"local\", \"local\", \"::\", \"::\", \"::\", \n  . \":::\", \":::\", \"::\", \"local\", \":::\", \":::\", \"::\"), error_frame = c(FALSE, \n  . FALSE, FALSE, FALSE, FALSE, FALSE, FALSE, FALSE, FALSE, FALSE, \n  . FALSE, FALSE, FALSE, FALSE, FALSE, FALSE, FALSE, FALSE, FALSE, \n  . FALSE, FALSE, FALSE, FALSE, FALSE, FALSE, FALSE, FALSE, FALSE, \n  . FALSE, FALSE, FALSE, FALSE, FALSE, FALSE, FALSE, FALSE, FALSE, \n  . FALSE, FALSE, FALSE, FALSE, FALSE, FALSE, FALSE, FALSE, FALSE, \n  . FALSE, TRUE, FALSE, FALSE, FALSE, FALSE, FALSE, FALSE, FALSE)), row.names = c(NA, \n  . -55L), version = 2L, class = c(\"rlang_trace\", \"rlib_trace\", \"tbl\", \n  . \"data.frame\")), parent = NULL, i = \"UltimateIncurredClaimCost\", \n  .     subscript_type = \"character\", names = c(\"ClaimNumber\", \"DateTimeOfAccident\", \n  .     \"DateReported\", \"Age\", \"UltimateIncurredClaimCost (target)\", \n  .     \"InitialCaseEstimate\", \"Elapsed time between date of injury and date claim closed\", \n  .     \"Elapsed time between date of injury and date reported to insurer\", \n  .     \"ClaimDescription\", \"ocupation\", \"Column1\", \"mn2\", \"ocupation2\", \n  .     \"H_MEAN\", \"A_MEAN\", \"H_MEAN2\", \"A_MEAN2\", \"DateOfAccident\", \n  .     \"LogDelay\", \"LogHourPay\", \"LogYearPay\", \"LogInitial\"), subscript_action = NULL, \n  .     subscript_arg = \"\", rlang = list(inherit = TRUE), call = all_of(y_var)), class = c(\"vctrs_error_subscript_oob\", \n  . \"vctrs_error_subscript\", \"rlang_error\", \"error\", \"condition\")))",
            "34. handlers[[1L]](cnd)",
            "35. abort(msg, call = call, parent = cnd)",
            "36. signal_abort(cnd, .file)",
            "37. signalCondition(cnd)",
            "38. (function (cnd) \n  . {\n  .     {\n  .         .__handler_frame__. <- TRUE\n  .         .__setup_frame__. <- frame\n  .         if (inherits(cnd, \"message\")) {\n  .             except <- c(\"warning\", \"error\")\n  .         }\n  .         else if (inherits(cnd, \"warning\")) {\n  .             except <- \"error\"\n  .         }\n  .         else {\n  .             except <- \"\"\n  .         }\n  .     }\n  .     while (!is_null(cnd)) {\n  .         if (inherits(cnd, \"vctrs_error_subscript\")) {\n  .             out <- handlers[[1L]](cnd)\n  .             if (!inherits(out, \"rlang_zap\")) \n  .                 throw(out)\n  .         }\n  .         inherit <- .subset2(.subset2(cnd, \"rlang\"), \"inherit\")\n  .         if (is_false(inherit)) {\n  .             return()\n  .         }\n  .         cnd <- .subset2(cnd, \"parent\")\n  .     }\n  . })(structure(list(message = \"Problem while evaluating `all_of(y_var)`.\", \n  .     parent = structure(list(message = \"\", trace = structure(list(\n  .         call = list(IRkernel::main(), kernel$run(), handle_shell(), \n  .             executor$execute(msg), tryCatch(evaluate(request$content$code, \n  .                 envir = .GlobalEnv, output_handler = oh, stop_on_error = 1L), \n  .                 interrupt = function(cond) {\n  .                   log_debug(\"Interrupt during execution\")\n  .                   interrupted <<- TRUE\n  .                 }, error = .self$handle_error), tryCatchList(expr, \n  .                 classes, parentenv, handlers), tryCatchOne(tryCatchList(expr, \n  .                 names[-nh], parentenv, handlers[-nh]), names[nh], \n  .                 parentenv, handlers[[nh]]), doTryCatch(return(expr), \n  .                 name, parentenv, handler), tryCatchList(expr, \n  .                 names[-nh], parentenv, handlers[-nh]), tryCatchOne(expr, \n  .                 names, parentenv, handlers[[1L]]), doTryCatch(return(expr), \n  .                 name, parentenv, handler), evaluate(request$content$code, \n  .                 envir = .GlobalEnv, output_handler = oh, stop_on_error = 1L), \n  .             evaluate_call(expr, parsed$src[[i]], envir = envir, \n  .                 enclos = enclos, debug = debug, last = i == length(out), \n  .                 use_try = stop_on_error != 2L, keep_warning = keep_warning, \n  .                 keep_message = keep_message, log_echo = log_echo, \n  .                 log_warning = log_warning, output_handler = output_handler, \n  .                 include_timing = include_timing), timing_fn(handle(ev <- withCallingHandlers(withVisible(eval_with_user_handlers(expr, \n  .                 envir, enclos, user_handlers)), warning = wHandler, \n  .                 error = eHandler, message = mHandler))), handle(ev <- withCallingHandlers(withVisible(eval_with_user_handlers(expr, \n  .                 envir, enclos, user_handlers)), warning = wHandler, \n  .                 error = eHandler, message = mHandler)), try(f, \n  .                 silent = TRUE), tryCatch(expr, error = function(e) {\n  .                 call <- conditionCall(e)\n  .                 if (!is.null(call)) {\n  .                   if (identical(call[[1L]], quote(doTryCatch))) \n  .                     call <- sys.call(-4L)\n  .                   dcall <- deparse(call, nlines = 1L)\n  .                   prefix <- paste(\"Error in\", dcall, \": \")\n  .                   LONG <- 75L\n  .                   sm <- strsplit(conditionMessage(e), \"\\n\")[[1L]]\n  .                   w <- 14L + nchar(dcall, type = \"w\") + nchar(sm[1L], \n  .                     type = \"w\")\n  .                   if (is.na(w)) \n  .                     w <- 14L + nchar(dcall, type = \"b\") + nchar(sm[1L], \n  .                       type = \"b\")\n  .                   if (w > LONG) \n  .                     prefix <- paste0(prefix, \"\\n  \")\n  .                 }\n  .                 else prefix <- \"Error : \"\n  .                 msg <- paste0(prefix, conditionMessage(e), \"\\n\")\n  .                 .Internal(seterrmessage(msg[1L]))\n  .                 if (!silent && isTRUE(getOption(\"show.error.messages\"))) {\n  .                   cat(msg, file = outFile)\n  .                   .Internal(printDeferredWarnings())\n  .                 }\n  .                 invisible(structure(msg, class = \"try-error\", \n  .                   condition = e))\n  .             }), tryCatchList(expr, classes, parentenv, handlers), \n  .             tryCatchOne(expr, names, parentenv, handlers[[1L]]), \n  .             doTryCatch(return(expr), name, parentenv, handler), \n  .             withCallingHandlers(withVisible(eval_with_user_handlers(expr, \n  .                 envir, enclos, user_handlers)), warning = wHandler, \n  .                 error = eHandler, message = mHandler), withVisible(eval_with_user_handlers(expr, \n  .                 envir, enclos, user_handlers)), eval_with_user_handlers(expr, \n  .                 envir, enclos, user_handlers), eval(expr, envir, \n  .                 enclos), eval(expr, envir, enclos), data2 %>% \n  .                 select(all_of(y_var), all_of(x_vars)), select(., \n  .                 all_of(y_var), all_of(x_vars)), select.data.frame(., \n  .                 all_of(y_var), all_of(x_vars)), tidyselect::eval_select(expr(c(...)), \n  .                 data = .data, error_call = error_call), eval_select_impl(data, \n  .                 names(data), as_quosure(expr, env), include = include, \n  .                 exclude = exclude, strict = strict, name_spec = name_spec, \n  .                 allow_rename = allow_rename, allow_empty = allow_empty, \n  .                 allow_predicates = allow_predicates, error_call = error_call, \n  .                 ), with_subscript_errors(out <- vars_select_eval(vars, \n  .                 expr, strict = strict, data = x, name_spec = name_spec, \n  .                 uniquely_named = uniquely_named, allow_rename = allow_rename, \n  .                 allow_empty = allow_empty, allow_predicates = allow_predicates, \n  .                 type = type, error_call = error_call), type = type), \n  .             try_fetch(expr, vctrs_error_subscript = function(cnd) {\n  .                 cnd$subscript_action <- subscript_action(type)\n  .                 cnd$subscript_elt <- \"column\"\n  .                 cnd_signal(cnd)\n  .             }), withCallingHandlers(expr, condition = function(cnd) {\n  .                 {\n  .                   .__handler_frame__. <- TRUE\n  .                   .__setup_frame__. <- frame\n  .                   if (inherits(cnd, \"message\")) {\n  .                     except <- c(\"warning\", \"error\")\n  .                   }\n  .                   else if (inherits(cnd, \"warning\")) {\n  .                     except <- \"error\"\n  .                   }\n  .                   else {\n  .                     except <- \"\"\n  .                   }\n  .                 }\n  .                 while (!is_null(cnd)) {\n  .                   if (inherits(cnd, \"vctrs_error_subscript\")) {\n  .                     out <- handlers[[1L]](cnd)\n  .                     if (!inherits(out, \"rlang_zap\")) \n  .                       throw(out)\n  .                   }\n  .                   inherit <- .subset2(.subset2(cnd, \"rlang\"), \n  .                     \"inherit\")\n  .                   if (is_false(inherit)) {\n  .                     return()\n  .                   }\n  .                   cnd <- .subset2(cnd, \"parent\")\n  .                 }\n  .             }), vars_select_eval(vars, expr, strict = strict, \n  .                 data = x, name_spec = name_spec, uniquely_named = uniquely_named, \n  .                 allow_rename = allow_rename, allow_empty = allow_empty, \n  .                 allow_predicates = allow_predicates, type = type, \n  .                 error_call = error_call), walk_data_tree(expr, \n  .                 data_mask, context_mask), eval_c(expr, data_mask, \n  .                 context_mask), reduce_sels(node, data_mask, context_mask, \n  .                 init = init), walk_data_tree(new, data_mask, \n  .                 context_mask), eval_context(expr, context_mask, \n  .                 call = error_call), with_chained_errors(eval_tidy(as_quosure(expr, \n  .                 env), context_mask), call = call, eval_expr = expr), \n  .             try_fetch(expr, error = function(cnd) {\n  .                 eval_expr <- quo_squash(eval_expr)\n  .                 if (!is_call(eval_expr) || identical(cnd[[\"call\"]], \n  .                   call2(eval_expr[[1]]))) {\n  .                   msg <- \"\"\n  .                 }\n  .                 else {\n  .                   code <- as_label(eval_expr)\n  .                   msg <- cli::format_inline(\"Problem while evaluating {.code {code}}.\")\n  .                 }\n  .                 abort(msg, call = call, parent = cnd)\n  .             }), tryCatch(withCallingHandlers(expr, condition = function(cnd) {\n  .                 {\n  .                   .__handler_frame__. <- TRUE\n  .                   .__setup_frame__. <- frame\n  .                   if (inherits(cnd, \"message\")) {\n  .                     except <- c(\"warning\", \"error\")\n  .                   }\n  .                   else if (inherits(cnd, \"warning\")) {\n  .                     except <- \"error\"\n  .                   }\n  .                   else {\n  .                     except <- \"\"\n  .                   }\n  .                 }\n  .                 while (!is_null(cnd)) {\n  .                   if (inherits(cnd, \"error\")) {\n  .                     out <- handlers[[1L]](cnd)\n  .                     if (!inherits(out, \"rlang_zap\")) \n  .                       throw(out)\n  .                   }\n  .                   inherit <- .subset2(.subset2(cnd, \"rlang\"), \n  .                     \"inherit\")\n  .                   if (is_false(inherit)) {\n  .                     return()\n  .                   }\n  .                   cnd <- .subset2(cnd, \"parent\")\n  .                 }\n  .             }), stackOverflowError = handlers[[1L]]), tryCatchList(expr, \n  .                 classes, parentenv, handlers), tryCatchOne(expr, \n  .                 names, parentenv, handlers[[1L]]), doTryCatch(return(expr), \n  .                 name, parentenv, handler), withCallingHandlers(expr, \n  .                 condition = function(cnd) {\n  .                   {\n  .                     .__handler_frame__. <- TRUE\n  .                     .__setup_frame__. <- frame\n  .                     if (inherits(cnd, \"message\")) {\n  .                       except <- c(\"warning\", \"error\")\n  .                     }\n  .                     else if (inherits(cnd, \"warning\")) {\n  .                       except <- \"error\"\n  .                     }\n  .                     else {\n  .                       except <- \"\"\n  .                     }\n  .                   }\n  .                   while (!is_null(cnd)) {\n  .                     if (inherits(cnd, \"error\")) {\n  .                       out <- handlers[[1L]](cnd)\n  .                       if (!inherits(out, \"rlang_zap\")) \n  .                         throw(out)\n  .                     }\n  .                     inherit <- .subset2(.subset2(cnd, \"rlang\"), \n  .                       \"inherit\")\n  .                     if (is_false(inherit)) {\n  .                       return()\n  .                     }\n  .                     cnd <- .subset2(cnd, \"parent\")\n  .                   }\n  .                 }), eval_tidy(as_quosure(expr, env), context_mask), \n  .             all_of(y_var), as_indices_impl(x, vars = vars, strict = TRUE), \n  .             chr_as_locations(x, vars, call = call, arg = arg), \n  .             vctrs::vec_as_location(x, n = length(vars), names = vars, \n  .                 call = call, arg = arg), `<fn>`(), stop_subscript_oob(i = i, \n  .                 subscript_type = subscript_type, names = names, \n  .                 subscript_action = subscript_action, subscript_arg = subscript_arg, \n  .                 call = call), stop_subscript(class = \"vctrs_error_subscript_oob\", \n  .                 i = i, subscript_type = subscript_type, ..., \n  .                 call = call), abort(class = c(class, \"vctrs_error_subscript\"), \n  .                 i = i, ..., call = call)), parent = c(0L, 1L, \n  .         2L, 3L, 4L, 5L, 6L, 7L, 6L, 9L, 10L, 4L, 12L, 13L, 13L, \n  .         15L, 16L, 17L, 18L, 19L, 13L, 13L, 13L, 23L, 24L, 0L, \n  .         0L, 0L, 28L, 29L, 30L, 31L, 32L, 30L, 34L, 35L, 36L, \n  .         37L, 38L, 39L, 40L, 41L, 42L, 43L, 44L, 41L, 39L, 0L, \n  .         48L, 49L, 50L, 0L, 52L, 53L, 54L), visible = c(TRUE, \n  .         TRUE, TRUE, TRUE, TRUE, TRUE, TRUE, TRUE, TRUE, TRUE, \n  .         TRUE, TRUE, TRUE, TRUE, TRUE, TRUE, TRUE, TRUE, TRUE, \n  .         TRUE, TRUE, TRUE, TRUE, TRUE, TRUE, TRUE, TRUE, TRUE, \n  .         TRUE, TRUE, TRUE, TRUE, TRUE, TRUE, TRUE, TRUE, TRUE, \n  .         TRUE, TRUE, TRUE, TRUE, TRUE, TRUE, TRUE, TRUE, TRUE, \n  .         TRUE, TRUE, FALSE, FALSE, FALSE, FALSE, FALSE, FALSE, \n  .         FALSE), namespace = c(\"IRkernel\", NA, \"IRkernel\", NA, \n  .         \"base\", \"base\", \"base\", \"base\", \"base\", \"base\", \"base\", \n  .         \"evaluate\", \"evaluate\", \"evaluate\", \"evaluate\", \"base\", \n  .         \"base\", \"base\", \"base\", \"base\", \"base\", \"base\", \"evaluate\", \n  .         \"base\", \"base\", NA, \"dplyr\", \"dplyr\", \"tidyselect\", \"tidyselect\", \n  .         \"tidyselect\", \"rlang\", \"base\", \"tidyselect\", \"tidyselect\", \n  .         \"tidyselect\", \"tidyselect\", \"tidyselect\", \"tidyselect\", \n  .         \"tidyselect\", \"rlang\", \"base\", \"base\", \"base\", \"base\", \n  .         \"base\", \"rlang\", \"tidyselect\", \"tidyselect\", \"tidyselect\", \n  .         \"vctrs\", \"vctrs\", \"vctrs\", \"vctrs\", \"rlang\"), scope = c(\"::\", \n  .         NA, \"local\", NA, \"::\", \"local\", \"local\", \"local\", \"local\", \n  .         \"local\", \"local\", \"::\", \":::\", \"local\", \"local\", \"::\", \n  .         \"::\", \"local\", \"local\", \"local\", \"::\", \"::\", \":::\", \"::\", \n  .         \"::\", NA, \"::\", \":::\", \"::\", \":::\", \":::\", \"::\", \"::\", \n  .         \":::\", \":::\", \":::\", \":::\", \":::\", \":::\", \":::\", \"::\", \n  .         \"::\", \"local\", \"local\", \"local\", \"::\", \"::\", \"::\", \":::\", \n  .         \":::\", \"::\", \"local\", \":::\", \":::\", \"::\"), error_frame = c(FALSE, \n  .         FALSE, FALSE, FALSE, FALSE, FALSE, FALSE, FALSE, FALSE, \n  .         FALSE, FALSE, FALSE, FALSE, FALSE, FALSE, FALSE, FALSE, \n  .         FALSE, FALSE, FALSE, FALSE, FALSE, FALSE, FALSE, FALSE, \n  .         FALSE, FALSE, TRUE, FALSE, FALSE, FALSE, FALSE, FALSE, \n  .         FALSE, FALSE, FALSE, FALSE, FALSE, FALSE, FALSE, FALSE, \n  .         FALSE, FALSE, FALSE, FALSE, FALSE, FALSE, TRUE, FALSE, \n  .         FALSE, FALSE, FALSE, FALSE, FALSE, FALSE)), row.names = c(NA, \n  .     -55L), version = 2L, class = c(\"rlang_trace\", \"rlib_trace\", \n  .     \"tbl\", \"data.frame\")), parent = NULL, i = \"UltimateIncurredClaimCost\", \n  .         subscript_type = \"character\", names = c(\"ClaimNumber\", \n  .         \"DateTimeOfAccident\", \"DateReported\", \"Age\", \"UltimateIncurredClaimCost (target)\", \n  .         \"InitialCaseEstimate\", \"Elapsed time between date of injury and date claim closed\", \n  .         \"Elapsed time between date of injury and date reported to insurer\", \n  .         \"ClaimDescription\", \"ocupation\", \"Column1\", \"mn2\", \"ocupation2\", \n  .         \"H_MEAN\", \"A_MEAN\", \"H_MEAN2\", \"A_MEAN2\", \"DateOfAccident\", \n  .         \"LogDelay\", \"LogHourPay\", \"LogYearPay\", \"LogInitial\"), \n  .         subscript_action = NULL, subscript_arg = \"\", rlang = list(\n  .             inherit = TRUE), call = all_of(y_var)), class = c(\"vctrs_error_subscript_oob\", \n  .     \"vctrs_error_subscript\", \"rlang_error\", \"error\", \"condition\"\n  .     )), rlang = list(inherit = TRUE), call = select(., all_of(y_var), \n  .         all_of(x_vars))), class = c(\"rlang_error\", \"error\", \"condition\"\n  . )))",
            "39. handlers[[1L]](cnd)",
            "40. cnd_signal(cnd)",
            "41. signal_abort(cnd)"
          ]
        }
      ]
    },
    {
      "cell_type": "code",
      "execution_count": null,
      "metadata": {
        "id": "RVX4MZQxm3N0",
        "colab": {
          "base_uri": "https://localhost:8080/"
        },
        "outputId": "bf3706ad-165e-4e95-ae6e-be7ec59a5c2e"
      },
      "outputs": [
        {
          "output_type": "stream",
          "name": "stderr",
          "text": [
            "Data '42876' file 'description.xml' found in cache.\n",
            "\n",
            "Data '42876' file 'dataset.arff' found in cache.\n",
            "\n"
          ]
        }
      ],
      "source": [
        "if (!file.exists(\"workers_compensation.parquet\")) {\n",
        "  library(OpenML)\n",
        "  df_origin <- getOMLDataSet(data.id = 42876L)\n",
        "  df <- tibble(df_origin$data)\n",
        "  write_parquet(df, \"workers_compensation.parquet\")\n",
        "} else {\n",
        "  df <- read_parquet(\"workers_compensation.parquet\")\n",
        "}"
      ]
    },
    {
      "cell_type": "code",
      "execution_count": null,
      "metadata": {
        "id": "iLo3vMF_kzTb",
        "colab": {
          "base_uri": "https://localhost:8080/",
          "height": 252
        },
        "outputId": "384a452b-3b7b-4886-a822-02f34d5510ad"
      },
      "outputs": [
        {
          "output_type": "display_data",
          "data": {
            "text/html": [
              "<style>\n",
              ".list-inline {list-style: none; margin:0; padding: 0}\n",
              ".list-inline>li {display: inline-block}\n",
              ".list-inline>li:not(:last-child)::after {content: \"\\00b7\"; padding: 0 .5ex}\n",
              "</style>\n",
              "<ol class=list-inline><li>'ClaimNumber'</li><li>'DateTimeOfAccident'</li><li>'DateReported'</li><li>'Age'</li><li>'UltimateIncurredClaimCost (target)'</li><li>'InitialCaseEstimate'</li><li>'Elapsed time between date of injury and date claim closed'</li><li>'Elapsed time between date of injury and date reported to insurer'</li><li>'ClaimDescription'</li><li>'ocupation'</li><li>'Column1'</li><li>'mn2'</li><li>'ocupation2'</li><li>'H_MEAN'</li><li>'A_MEAN'</li><li>'H_MEAN2'</li><li>'A_MEAN2'</li></ol>\n"
            ],
            "text/markdown": "1. 'ClaimNumber'\n2. 'DateTimeOfAccident'\n3. 'DateReported'\n4. 'Age'\n5. 'UltimateIncurredClaimCost (target)'\n6. 'InitialCaseEstimate'\n7. 'Elapsed time between date of injury and date claim closed'\n8. 'Elapsed time between date of injury and date reported to insurer'\n9. 'ClaimDescription'\n10. 'ocupation'\n11. 'Column1'\n12. 'mn2'\n13. 'ocupation2'\n14. 'H_MEAN'\n15. 'A_MEAN'\n16. 'H_MEAN2'\n17. 'A_MEAN2'\n\n\n",
            "text/latex": "\\begin{enumerate*}\n\\item 'ClaimNumber'\n\\item 'DateTimeOfAccident'\n\\item 'DateReported'\n\\item 'Age'\n\\item 'UltimateIncurredClaimCost (target)'\n\\item 'InitialCaseEstimate'\n\\item 'Elapsed time between date of injury and date claim closed'\n\\item 'Elapsed time between date of injury and date reported to insurer'\n\\item 'ClaimDescription'\n\\item 'ocupation'\n\\item 'Column1'\n\\item 'mn2'\n\\item 'ocupation2'\n\\item 'H\\_MEAN'\n\\item 'A\\_MEAN'\n\\item 'H\\_MEAN2'\n\\item 'A\\_MEAN2'\n\\end{enumerate*}\n",
            "text/plain": [
              " [1] \"ClaimNumber\"                                                     \n",
              " [2] \"DateTimeOfAccident\"                                              \n",
              " [3] \"DateReported\"                                                    \n",
              " [4] \"Age\"                                                             \n",
              " [5] \"UltimateIncurredClaimCost (target)\"                              \n",
              " [6] \"InitialCaseEstimate\"                                             \n",
              " [7] \"Elapsed time between date of injury and date claim closed\"       \n",
              " [8] \"Elapsed time between date of injury and date reported to insurer\"\n",
              " [9] \"ClaimDescription\"                                                \n",
              "[10] \"ocupation\"                                                       \n",
              "[11] \"Column1\"                                                         \n",
              "[12] \"mn2\"                                                             \n",
              "[13] \"ocupation2\"                                                      \n",
              "[14] \"H_MEAN\"                                                          \n",
              "[15] \"A_MEAN\"                                                          \n",
              "[16] \"H_MEAN2\"                                                         \n",
              "[17] \"A_MEAN2\"                                                         "
            ]
          },
          "metadata": {}
        },
        {
          "output_type": "stream",
          "name": "stderr",
          "text": [
            "Warning message:\n",
            "“'type' is deprecated.\n",
            "Use 'infer_type' instead.\n",
            "See help(\"Deprecated\")”\n"
          ]
        },
        {
          "output_type": "display_data",
          "data": {
            "text/plain": [
              "StructType\n",
              "struct<ClaimNumber: double, DateTimeOfAccident: timestamp[us, tz=UTC], DateReported: timestamp[us, tz=UTC], Age: double, UltimateIncurredClaimCost (target): double, InitialCaseEstimate: double, Elapsed time between date of injury and date claim closed: double, Elapsed time between date of injury and date reported to insurer: double, ClaimDescription: string, ocupation: double, Column1: double, mn2: string, ocupation2: string, H_MEAN: double, A_MEAN: double, H_MEAN2: double, A_MEAN2: double>"
            ]
          },
          "metadata": {}
        }
      ],
      "source": [
        "data =read_excel(\"/content/X2.xlsx\")\n",
        "colnames(data)\n",
        "type(data)"
      ]
    },
    {
      "cell_type": "code",
      "execution_count": null,
      "metadata": {
        "id": "kMS0lQM3F_nK",
        "colab": {
          "base_uri": "https://localhost:8080/",
          "height": 437
        },
        "outputId": "1931229b-a5e0-443d-c4ff-72a0b6393e23"
      },
      "outputs": [
        {
          "output_type": "display_data",
          "data": {
            "text/plain": [
              "plot without title"
            ],
            "image/png": "[encoded data removed]"
          },
          "metadata": {
            "image/png": {
              "width": 420,
              "height": 420
            }
          }
        }
      ],
      "source": [
        "df_values <- data.frame(\n",
        "  functional = c(\"mean\", \"median\"),\n",
        "  value = c(mean(df[[y_var]]), median(df[[y_var]]))\n",
        ")\n",
        "ggplot(df, aes(x = UltimateIncurredClaimCost)) +\n",
        "  geom_histogram(aes(y = ..density..), bins = 200, fill = \"#E69F00\") +\n",
        "  geom_vline(\n",
        "    data = df_values,\n",
        "    aes(xintercept = value, color = functional),\n",
        "    linetype = \"dashed\",\n",
        "    size = 1\n",
        "  ) +\n",
        "  scale_x_log10() +\n",
        "  xlab(\"Log(UltimateIncurredClaimCost)\") +\n",
        "  ggtitle(\"Histogram of UltimateIncurredClaimCost\")"
      ]
    },
    {
      "cell_type": "code",
      "execution_count": null,
      "metadata": {
        "id": "7XIA5vZ-GENI",
        "colab": {
          "base_uri": "https://localhost:8080/",
          "height": 117
        },
        "outputId": "a7870f3d-4cb0-46c9-92ea-e8199f653317"
      },
      "outputs": [
        {
          "output_type": "error",
          "ename": "ERROR",
          "evalue": "ignored",
          "traceback": [
            "Error in data1 %>% select_at(x_continuous) %>% pivot_longer(everything()) %>% : could not find function \"%>%\"\nTraceback:\n"
          ]
        }
      ],
      "source": [
        "data1 %>%\n",
        "  select_at(x_continuous) %>%\n",
        "  pivot_longer(everything()) %>%\n",
        "  mutate(name = factor(name, levels = x_continuous)) %>%\n",
        "ggplot(aes(x = value)) +\n",
        "  geom_histogram(bins = 19, fill = \"#E69F00\") +\n",
        "  facet_wrap(~name, scales = \"free\", ncol = 3) +\n",
        "  labs(y = element_blank()) +\n",
        "  theme(\n",
        "    axis.title.y = element_blank(),\n",
        "    axis.text.y = element_blank(),\n",
        "    axis.ticks.y = element_blank()\n",
        "  ) +\n",
        "  ggtitle(\"Histograms of numerical features\")"
      ]
    },
    {
      "cell_type": "code",
      "source": [
        "df %>%\n",
        "  select_at(x_discrete) %>%\n",
        "  mutate_all(as.character) %>%\n",
        "  pivot_longer(everything()) %>%\n",
        "  mutate(\n",
        "    name = factor(name, levels = x_discrete),\n",
        "    value = factor(value)\n",
        "  ) %>%\n",
        "ggplot(aes(x = value)) +\n",
        "  geom_bar(fill = \"#E69F00\") +\n",
        "  facet_wrap(~name, scales = \"free\", ncol = 3) +\n",
        "  labs(y = \"Count\") +\n",
        "  ggtitle(\"Histograms of categorical features\")"
      ],
      "metadata": {
        "colab": {
          "base_uri": "https://localhost:8080/",
          "height": 437
        },
        "id": "K635NL2WYGOp",
        "outputId": "3bce34f2-610d-42a7-8096-96d92c7fb8cd"
      },
      "execution_count": null,
      "outputs": [
        {
          "output_type": "display_data",
          "data": {
            "text/plain": [
              "plot without title"
            ],
            "image/png": "[encoded data removed]"
          },
          "metadata": {
            "image/png": {
              "width": 420,
              "height": 420
            }
          }
        }
      ]
    },
    {
      "cell_type": "code",
      "execution_count": null,
      "metadata": {
        "id": "fUTaCn17GK4A",
        "colab": {
          "base_uri": "https://localhost:8080/",
          "height": 437
        },
        "outputId": "d6ffcce5-c82f-4203-c096-fb56c3774fe5"
      },
      "outputs": [
        {
          "output_type": "display_data",
          "data": {
            "text/plain": [
              "plot without title"
            ],
            "image/png": "[encoded data removed]"
          },
          "metadata": {
            "image/png": {
              "width": 420,
              "height": 420
            }
          }
        }
      ],
      "source": [
        "df %>%\n",
        "  select_at(x_continuous) %>%\n",
        "  cor() %>%\n",
        "  round(2) %>%\n",
        "  ggcorrplot(\n",
        "    hc.order = FALSE,\n",
        "    type = \"upper\",\n",
        "    outline.col = \"white\",\n",
        "    ggtheme = theme_minimal(),\n",
        "    colors = c(\"#6D9EC1\", \"white\", \"#E46726\")\n",
        "  )"
      ]
    },
    {
      "cell_type": "code",
      "execution_count": null,
      "metadata": {
        "id": "WUnexsg0GSif"
      },
      "outputs": [],
      "source": [
        "df_cat <- df %>%\n",
        "  select(all_of(x_discrete), all_of(y_var)) %>%\n",
        "  mutate(across(-all_of(y_var), as.factor)) %>%\n",
        "  pivot_longer(cols = -all_of(y_var))\n",
        "ggplot(df_cat, aes_string(\"value\", y_var)) +\n",
        "  geom_boxplot(varwidth = TRUE, fill = \"orange\") +\n",
        "  facet_wrap(~ name, scales = \"free_x\") +\n",
        "  scale_y_log10() +\n",
        "  xlab(element_blank()) +\n",
        "  ggtitle(\"Boxplots for categorical features\")\n",
        "df_num <- df %>%\n",
        "  select(all_of(x_continuous), all_of(y_var)) %>%\n",
        "  pivot_longer(cols = -all_of(y_var))\n",
        "ggplot(df_num, aes_string(\"value\", y = y_var)) +\n",
        "  geom_hex(bins = 18, show.legend = FALSE) +\n",
        "  facet_wrap(~ name, scales = \"free\") +\n",
        "  scale_y_log10() +\n",
        "  scale_fill_viridis_c(option = \"magma\", trans = \"log10\") +\n",
        "  xlab(element_blank())"
      ]
    },
    {
      "cell_type": "code",
      "execution_count": null,
      "metadata": {
        "id": "gHeyUFrNGYmn"
      },
      "outputs": [],
      "source": [
        "set.seed(1234321L)\n",
        ".in <- sample(nrow(df), round(0.75 * nrow(df)), replace = FALSE)\n",
        "train <- df[.in, ]\n",
        "test <- df[-.in, ]\n",
        "y_train <- train[[y_var]]\n",
        "y_test <- test[[y_var]]\n",
        "df <- df %>%\n",
        "  mutate(dataset = factor(c(\"test\"), c(\"train\", \"test\")))\n",
        "df$dataset[.in] <- \"train\"\n",
        "df %>%\n",
        "  group_by(dataset) %>%\n",
        "  summarise(\n",
        "    mean = mean(UltimateIncurredClaimCost),\n",
        "    q20 = quantile(UltimateIncurredClaimCost, probs=0.2),\n",
        "    q40 = quantile(UltimateIncurredClaimCost, probs=0.4),\n",
        "    q50 = median(UltimateIncurredClaimCost),\n",
        "    q60 = quantile(UltimateIncurredClaimCost, probs=0.6),\n",
        "    q80 = quantile(UltimateIncurredClaimCost, probs=0.8),\n",
        "    q90 = quantile(UltimateIncurredClaimCost, probs=0.9)\n",
        "  )"
      ]
    },
    {
      "cell_type": "code",
      "execution_count": null,
      "metadata": {
        "id": "Ua827k4lGc4X"
      },
      "outputs": [],
      "source": [
        "trivial_predict <- function(X) {\n",
        "  mean(y_train) * rep(1, dim(X)[1])\n",
        "}"
      ]
    },
    {
      "cell_type": "code",
      "execution_count": null,
      "metadata": {
        "id": "N8J8iNd3GiAw"
      },
      "outputs": [],
      "source": [
        "form <- reformulate(x_vars, y_var)\n",
        "fit_ols <- lm(form, data = train)\n",
        "summary(fit_ols)\n",
        "r_squared(y_test, predict(fit_ols, test), reference_mean = mean(y_train))\n",
        "# r_squared_gamma(y_test, predict(fit_ols, test), reference_mean = mean(y_train))\n",
        "# Error because of negative predictions\n",
        "fit_ols_log <- lm(update(form, log(UltimateIncurredClaimCost) ~ .), data = train)\n",
        "ols_predict <- function(X){\n",
        "  exp(predict(fit_ols_log, X))\n",
        "}\n",
        "# Same with bias correction\n",
        "corr_fact_ols <- mean(y_train) / mean(exp(fitted(fit_ols_log)))\n",
        "ols_corr_predict <- function(X) {\n",
        "  corr_fact_ols * exp(predict(fit_ols_log, X))\n",
        "}"
      ]
    },
    {
      "cell_type": "code",
      "execution_count": null,
      "metadata": {
        "id": "HG2F7D2wIIDG"
      },
      "outputs": [],
      "source": [
        "\n",
        "fit_glm_gamma <- glm2(reformulate(x_vars, y_var), data = train,\n",
        "                      family = Gamma(link = \"log\"))\n",
        "summary(fit_glm_gamma)\n",
        "glm_gamma_predict <- function(X) {\n",
        "  predict(fit_glm_gamma, X, type = \"response\")\n",
        "}\n",
        "# Same with bias correction\n",
        "corr_fact_glm <- mean(y_train) / mean(glm_gamma_predict(train))\n",
        "glm_gamma_corr_predict <- function(X){\n",
        "  corr_fact_glm * predict(fit_glm_gamma, X, type = \"response\")\n",
        "}\n"
      ]
    },
    {
      "cell_type": "code",
      "execution_count": null,
      "metadata": {
        "id": "ngHymXpMIM0z"
      },
      "outputs": [],
      "source": [
        "\n",
        "### Poisson GLM\n",
        "\n",
        "# Quasi-Poisson instead of Poisson suppresses warnings for non-integer y\n",
        "fit_glm_poisson <- glm(\n",
        "  reformulate(x_vars, y_var), data = train, family = quasipoisson\n",
        ")\n",
        "summary(fit_glm_poisson)\n",
        "glm_poisson_predict <- function(X){\n",
        "  predict(fit_glm_poisson, X, type = \"response\")\n",
        "}\n"
      ]
    },
    {
      "cell_type": "code",
      "execution_count": null,
      "metadata": {
        "id": "klmKKN41IRUR"
      },
      "outputs": [],
      "source": [
        "dtrain <- xgb.DMatrix(data.matrix(train[, x_vars]), label = y_train)\n",
        "# Settings\n",
        "tune <- FALSE\n",
        "file_grid <- \"grid/grid_xgb.RData\"\n",
        "if (tune) {\n",
        "  # Step 1: find good learning rate\n",
        "  xgb.cv(\n",
        "    list(learning_rate = 0.03),\n",
        "    dtrain,\n",
        "    nrounds = 5000,\n",
        "    tree_method = \"hist\",\n",
        "    nfold = 5,\n",
        "    objective = \"reg:gamma\",\n",
        "    showsd = FALSE,\n",
        "    early_stopping_rounds = 20,\n",
        "    verbose = 2\n",
        "  )}"
      ]
    },
    {
      "cell_type": "code",
      "execution_count": null,
      "metadata": {
        "id": "OITab2YfJAGT"
      },
      "outputs": [],
      "source": [
        "dtrain <- xgb.DMatrix(data.matrix(train[, x_vars]), label = y_train)\n",
        "# Settings\n",
        "tune <- FALSE\n",
        "file_grid <- \"grid_xgb.RData\"\n",
        "if (tune) {\n",
        "  # Step 1: find good learning rate\n",
        "  xgb.cv(\n",
        "    list(learning_rate = 0.03),\n",
        "    dtrain,\n",
        "    nrounds = 5000,\n",
        "    tree_method = \"hist\",\n",
        "    nfold = 5,\n",
        "    objective = \"reg:gamma\",\n",
        "    showsd = FALSE,\n",
        "    early_stopping_rounds = 20,\n",
        "    verbose = 2\n",
        "  )\n",
        "\n",
        "  # Step 2: Grid search CV on typical parameter combos\n",
        "  paramGrid <- expand.grid(\n",
        "    iteration = NA,\n",
        "    score = NA,\n",
        "    learning_rate = 0.03,\n",
        "    max_depth = 4:6,\n",
        "    min_child_weight = c(0, 1e-04),\n",
        "    colsample_bynode = c(0.8, 1),\n",
        "    subsample = c(0.8, 1),\n",
        "    reg_lambda = 0:2,\n",
        "    reg_alpha = 0:2,\n",
        "    tree_method = \"hist\",\n",
        "    eval_metric = \"gamma-nloglik\"\n",
        "  )\n",
        "  if (nrow(paramGrid) > 20) {\n",
        "    set.seed(342267)\n",
        "    paramGrid <- paramGrid[sample(nrow(paramGrid), 20), ]\n",
        "  }\n",
        "\n",
        "  for (i in seq_len(nrow(paramGrid))) {\n",
        "    print(i)\n",
        "    cvm <- xgb.cv(\n",
        "      as.list(paramGrid[i, -(1:2)]),\n",
        "      dtrain,\n",
        "      nrounds = 5000,\n",
        "      nfold = 5,\n",
        "      objective = \"reg:gamma\",\n",
        "      showsd = FALSE,\n",
        "      early_stopping_rounds = 20,\n",
        "      verbose = 0\n",
        "    )\n",
        "\n",
        "    paramGrid[i, 1] <- bi <- cvm$best_iteration\n",
        "    paramGrid[i, 2] <- cvm$evaluation_log[bi, \"test_gamma_nloglik_mean\"] %>%\n",
        "      as.numeric()\n",
        "    save(paramGrid, file = file_grid)\n",
        "\n",
        "  }\n",
        "\n",
        "}\n",
        "load(file_grid, verbose = TRUE)"
      ]
    },
    {
      "cell_type": "code",
      "execution_count": null,
      "metadata": {
        "id": "OJk9ZwNUkb2O"
      },
      "outputs": [],
      "source": [
        "dtrain <- xgb.DMatrix(data.matrix(train[, x_vars]), label = y_train)\n",
        "# Settings\n",
        "tune <- FALSE\n",
        "file_grid <- \"grid_xgb.RData\"\n",
        "if (tune) {\n",
        "  # Step 1: find good learning rate\n",
        "  xgb.cv(\n",
        "    list(learning_rate = 0.03),\n",
        "    dtrain,\n",
        "    nrounds = 5000,\n",
        "    tree_method = \"hist\",\n",
        "    nfold = 5,\n",
        "    objective = \"reg:gamma\",\n",
        "    showsd = FALSE,\n",
        "    early_stopping_rounds = 20,\n",
        "    verbose = 2\n",
        "  )\n",
        "\n",
        "  # Step 2: Grid search CV on typical parameter combos\n",
        "  paramGrid <- expand.grid(\n",
        "    iteration = NA,\n",
        "    score = NA,\n",
        "    learning_rate = 0.03,\n",
        "    max_depth = 4:6,\n",
        "    min_child_weight = c(0, 1e-04),\n",
        "    colsample_bynode = c(0.8, 1),\n",
        "    subsample = c(0.8, 1),\n",
        "    reg_lambda = 0:2,\n",
        "    reg_alpha = 0:2,\n",
        "    tree_method = \"hist\",\n",
        "    eval_metric = \"gamma-nloglik\"\n",
        "  )\n",
        "  if (nrow(paramGrid) > 20) {\n",
        "    set.seed(342267)\n",
        "    paramGrid <- paramGrid[sample(nrow(paramGrid), 20), ]\n",
        "  }\n",
        "\n",
        "  for (i in seq_len(nrow(paramGrid))) {\n",
        "    print(i)\n",
        "    cvm <- xgb.cv(\n",
        "      as.list(paramGrid[i, -(1:2)]),\n",
        "      dtrain,\n",
        "      nrounds = 5000,\n",
        "      nfold = 5,\n",
        "      objective = \"reg:gamma\",\n",
        "      showsd = FALSE,\n",
        "      early_stopping_rounds = 20,\n",
        "      verbose = 0\n",
        "    )\n",
        "\n",
        "    paramGrid[i, 1] <- bi <- cvm$best_iteration\n",
        "    paramGrid[i, 2] <- cvm$evaluation_log[bi, \"test_gamma_nloglik_mean\"] %>%\n",
        "      as.numeric()\n",
        "    save(paramGrid, file = file_grid)\n",
        "  }\n",
        "}\n",
        "load(file_grid, verbose = TRUE)\n",
        "# Step 3: Fit on best params\n",
        "head(paramGrid <- paramGrid[order(paramGrid$score), ])\n",
        "params <- paramGrid[1, ]\n",
        "set.seed(93845)\n",
        "fit_xgb <- xgb.train(\n",
        "  as.list(params[, -(1:2)]),\n",
        "  data = dtrain,\n",
        "  nrounds = params$iteration,\n",
        "  objective = \"reg:gamma\"\n",
        ")\n",
        "# Predict wrapper for xgb model\n",
        "xgb_predict <- function(newdata, x = x_vars) {\n",
        "  predict(fit_xgb, data.matrix(newdata[, x]))\n",
        "}\n",
        "# Same with bias correction\n",
        "corr_fact_xgb <- mean(y_train) / mean(xgb_predict(train))\n",
        "xgb_corr_predict <- function(newdata, x = x_vars) {\n",
        "  corr_fact_xgb * predict(fit_xgb, data.matrix(newdata[, x]))\n",
        "}\n",
        "# feature importance, helps to select features for calibration analysis\n",
        "importanceRaw <- xgb.importance(model = fit_xgb)\n",
        "xgb.plot.importance(importance_matrix = importanceRaw)"
      ]
    },
    {
      "cell_type": "code",
      "execution_count": null,
      "metadata": {
        "id": "bZyzWcQbJn5K"
      },
      "outputs": [],
      "source": [
        "# Step 3: Fit on best params\n",
        "head(paramGrid <- paramGrid[order(paramGrid$score), ])\n",
        "params <- paramGrid[1, ]\n",
        "set.seed(93845)\n",
        "fit_xgb <- xgb.train(\n",
        "  as.list(params[, -(1:2)]),\n",
        "  data = dtrain,\n",
        "  nrounds = params$iteration,\n",
        "  objective = \"reg:gamma\"\n",
        ")\n",
        "# Predict wrapper for xgb model\n",
        "xgb_predict <- function(newdata, x = x_vars) {\n",
        "  predict(fit_xgb, data.matrix(newdata[, x]))\n",
        "}\n",
        "# Same with bias correction\n",
        "corr_fact_xgb <- mean(y_train) / mean(xgb_predict(train))\n",
        "xgb_corr_predict <- function(newdata, x = x_vars) {\n",
        "  corr_fact_xgb * predict(fit_xgb, data.matrix(newdata[, x]))\n",
        "}\n",
        "# feature importance, helps to select features for calibration analysis\n",
        "importanceRaw <- xgb.importance(model = fit_xgb)\n",
        "xgb.plot.importance(importance_matrix = importanceRaw)"
      ]
    },
    {
      "cell_type": "code",
      "execution_count": null,
      "metadata": {
        "id": "RJ2S-dCmeC2G"
      },
      "outputs": [],
      "source": [
        "# Step 3: Fit on best params\n",
        "paramGrid <- paramGrid[order(paramGrid$score, decreasing = TRUE), ] # Order the parameter grid by descending score\n",
        "params <- paramGrid[1, ] # Get the best parameters\n",
        "set.seed(93845)\n",
        "fit_xgb <- xgb.train(\n",
        "  params = as.list(params[, -(1:2)]),\n",
        "  data = dtrain,\n",
        "  nrounds = params$iteration,\n",
        "  objective = \"reg:gamma\"\n",
        ")\n",
        "# Predict wrapper for xgb model\n",
        "xgb_predict <- function(newdata, x = x_vars) {\n",
        "  predict(fit_xgb, newdata = data.matrix(newdata[, x]))\n",
        "}\n",
        "# Same with bias correction\n",
        "corr_fact_xgb <- mean(y_train) / mean(xgb_predict(newdata = train))\n",
        "xgb_corr_predict <- function(newdata, x = x_vars) {\n",
        "  corr_fact_xgb * predict(fit_xgb, newdata = data.matrix(newdata[, x]))\n",
        "}\n",
        "# feature importance, helps to select features for calibration analysis\n",
        "importanceRaw <- xgb.importance(model = fit_xgb)\n",
        "xgb.plot.importance(importance_matrix = importanceRaw)\n"
      ]
    },
    {
      "cell_type": "code",
      "execution_count": null,
      "metadata": {
        "id": "Qio04n8SMTVV"
      },
      "outputs": [],
      "source": [
        "\n",
        "\n",
        "## Calibration assessment\n",
        "\n",
        "### Unconditional calibration in terms of bias\n",
        "\n",
        "model_levels <- c(\"trivial\", \"ols\", \"ols_corr\", \"glm_gamma\",\n",
        "                  \"glm_gamma_corr\", \"glm_poisson\", \"xgb\", \"xgb_corr\")\n",
        "df_cali <- df %>%\n",
        "  mutate(\n",
        "    prediction_trivial = trivial_predict(.),\n",
        "    prediction_ols = ols_predict(.),\n",
        "    prediction_ols_corr = ols_corr_predict(.),\n",
        "    prediction_glm_gamma = glm_gamma_predict(.),\n",
        "    prediction_glm_gamma_corr = glm_gamma_corr_predict(.),\n",
        "    prediction_glm_poisson = glm_poisson_predict(.),\n",
        "    prediction_xgb = xgb_predict(.),\n",
        "    prediction_xgb_corr = xgb_corr_predict(.)\n",
        "  ) %>%\n",
        "  pivot_longer(\n",
        "    cols = starts_with(\"prediction\"),\n",
        "    names_to = \"model\",\n",
        "    names_prefix = \"prediction_\",\n",
        "    values_to = \"prediction\"\n",
        "  ) %>%\n",
        "  mutate(\n",
        "    bias = prediction - UltimateIncurredClaimCost,\n",
        "    model = factor(model, model_levels)\n",
        "  )\n",
        "# Unconditional calibration\n",
        "df_cali %>%\n",
        "  group_by(dataset, model) %>%\n",
        "  summarise(\n",
        "    mean_bias = num(mean(bias), digits = 0),\n",
        "    p_value = num(t.test(bias)$p.value, sigfig = 2),\n",
        "    .groups = \"drop\"\n",
        "  )"
      ]
    },
    {
      "cell_type": "code",
      "execution_count": null,
      "metadata": {
        "id": "4JO-uptDMk-N"
      },
      "outputs": [],
      "source": [
        "\n",
        "### Auto-calibration\n",
        "\n",
        "#Visualized differently on train and test.\n",
        "\n",
        "df_cali %>%\n",
        "  filter(dataset == \"train\") %>%\n",
        "# sample_n(10000) %>%\n",
        "ggplot(aes(x = prediction, y = bias)) +\n",
        "  geom_hex(bins = 23, show.legend = TRUE) +\n",
        "  geom_smooth(\n",
        "    method = \"gam\",\n",
        "    formula = y ~ s(x, bs = \"cr\", k = 20),\n",
        "    se = FALSE\n",
        "  ) +\n",
        "  scale_fill_viridis_c(option = \"magma\", trans = \"log10\") +\n",
        "  facet_wrap(~ model) +\n",
        "  theme(legend.position = c(0.9, 0), legend.justification = c(1, 0)) +\n",
        "  ggtitle(\"Bias (negative residuals) vs predicted (training set)\")\n",
        "# Smoothed curve on test\n",
        "df_cali %>%\n",
        "  filter(dataset == \"test\", prediction <= 1e5) %>%\n",
        "ggplot(aes(x = prediction, y = bias, linetype = model, color = model)) +\n",
        "  geom_smooth(\n",
        "    method = \"gam\",\n",
        "    formula = y ~ s(x, bs = \"cr\", k = 20),\n",
        "    se = FALSE\n",
        "  ) +\n",
        "  coord_cartesian(ylim = c(-2e4, 2e4)) +\n",
        "  ggtitle(\"Bias (negative residuals) vs predicted (test set)\")\n",
        "# Table for test function phi = prediction\n",
        "df_cali %>%\n",
        "  group_by(dataset, model) %>%\n",
        "  summarise(\n",
        "    bias = num(mean(prediction * bias), sigfig = 4, notation = \"sci\"),\n",
        "    .groups = \"drop\"\n",
        "  ) %>%\n",
        "  pivot_wider(names_from = dataset, values_from = bias)\n"
      ]
    },
    {
      "cell_type": "code",
      "execution_count": null,
      "metadata": {
        "id": "SKfSGkSkMy-L"
      },
      "outputs": [],
      "source": [
        "\n",
        "### Calibration conditional on Gender\n",
        "\n",
        "# Note: We want to divide by n_train and n_test and NOT by n(Gender=M) and n(Gender=F)\n",
        "df_cali %>%\n",
        "  group_by(dataset, model) %>%\n",
        "  summarise(\n",
        "    F = mean(bias * (Gender == \"F\")),\n",
        "    M = mean(bias * (Gender == \"M\")),\n",
        "    .groups = \"drop\"\n",
        "  )\n",
        "\n",
        "#Bar plot of mean bias on the test set. The first plot for the two test functions\n",
        "#$\\phi(x) = 1\\{Gender = F\\}$ and $\\phi(x) = 1\\{Gender = M\\}$ and\n",
        "#the second one for evaluation of $\\bar V$ stratified by gender.\n",
        "\n",
        "df_indicator <- df_cali %>%\n",
        "  filter(dataset == \"test\") %>%\n",
        "  group_by(model) %>%\n",
        "  summarise(\n",
        "    F = mean(bias * (Gender == \"F\")),\n",
        "    M = mean(bias * (Gender == \"M\")),\n",
        "    .groups = \"drop\"\n",
        "  ) %>%\n",
        "  pivot_longer(c(\"F\", \"M\"), names_to = \"Gender\", values_to = \"mean bias\") %>%\n",
        "  mutate(type = \"whole sample\")\n",
        "df_strat <- df_cali %>%\n",
        "  filter(dataset == \"test\") %>%\n",
        "  group_by(model, Gender) %>%\n",
        "  summarise(`mean bias` = mean(bias), .groups = \"drop\") %>%\n",
        "  mutate(type = \"subsample per Gender\")\n",
        "df_indicator %>%\n",
        "  bind_rows(df_strat) %>%\n",
        "  ggplot(aes(x = Gender, y = `mean bias`, group = model, color = model)) +\n",
        "  geom_point(size = 3, position = position_dodge(width = 0.3), alpha = 0.7) +\n",
        "  facet_wrap(~ fct_rev(type)) +\n",
        "  ggtitle(\"Mean bias by Gender (test set)\")\n"
      ]
    },
    {
      "cell_type": "code",
      "execution_count": null,
      "metadata": {
        "id": "Yq3rIt5rM5uz"
      },
      "outputs": [],
      "source": [
        "### Calibration conditional on LogWeeklyPay\n",
        "\n",
        "\n",
        "# Binning of LogWeeklyPay in 10 quantiles\n",
        "# Use mean of quantile as x-value\n",
        "breaks <- unique(quantile(df$LogWeeklyPay, (0:10) / 10))\n",
        "midpoints <- (breaks[-length(breaks)] + breaks[-1]) / 2\n",
        "df_binned <- df_cali %>%\n",
        "  mutate(\n",
        "    LogWeeklyPayBinned = midpoints[\n",
        "      cut(LogWeeklyPay, breaks, include.lowest = TRUE, labels = FALSE)\n",
        "    ],\n",
        "    WeeklyPayBinned = exp(LogWeeklyPayBinned) - 1\n",
        "  )\n",
        "p1 <- df_binned %>%\n",
        "  group_by(dataset, model, WeeklyPayBinned) %>%\n",
        "  summarise(bias = sum(bias), .groups = \"drop\") %>%\n",
        "  mutate(\n",
        "    bias = bias / case_when(\n",
        "      dataset==\"train\" ~ nrow(train),\n",
        "      dataset==\"test\" ~ nrow(test)\n",
        "    )\n",
        "  ) %>%\n",
        "ggplot(aes(x = WeeklyPayBinned, y = bias, color = model, group = model)) +\n",
        "  geom_line() +\n",
        "  geom_point() +\n",
        "  scale_x_log10() +\n",
        "  facet_wrap(~ dataset) +\n",
        "  ylab(\"mean bias\") +\n",
        "  ggtitle(\"Mean bias on whole sample\") +\n",
        "  theme(plot.title = element_text(size = 12))\n",
        "p2 <- df_binned %>%\n",
        "  group_by(dataset, model, WeeklyPayBinned) %>%\n",
        "  summarise(bias = mean(bias), .groups = \"drop\") %>%\n",
        "ggplot(aes(x = WeeklyPayBinned, y = bias, color = model, group = model)) +\n",
        "  geom_line() +\n",
        "  geom_point() +\n",
        "  scale_x_log10() +\n",
        "  facet_wrap(~ dataset) +\n",
        "  ylab(\"mean bias\") +\n",
        "  ggtitle(\"Mean bias per sample in bin\") +\n",
        "  theme(plot.title = element_text(size = 12))\n",
        "p1 / p2 +\n",
        "  plot_layout(guides = \"collect\") +\n",
        "  plot_annotation(title = \"Mean bias on binned LogWeeklyPay\")\n",
        "# Test function = LogWeeklyPay\n",
        "with_options(\n",
        "  list(scipen = 3, pillar.sigfig = 0),\n",
        "  df_cali %>%\n",
        "    group_by(dataset, model) %>%\n",
        "    summarise(calib_test = mean(LogWeeklyPay * bias), .groups = \"drop\") %>%\n",
        "    pivot_wider(names_from = dataset, values_from = calib_test)\n",
        ")"
      ]
    },
    {
      "cell_type": "code",
      "execution_count": null,
      "metadata": {
        "id": "RqLd7pT2NL3M"
      },
      "outputs": [],
      "source": [
        "## Model comparison\n",
        "\n",
        "### Compare absolute and relative performance scores\n",
        "\n",
        "# Function returns two relevant mean Gamma deviance and corresponding D2\n",
        "perf <- function(X, actual, predicted, ref) {\n",
        "  act <- X[[actual]]\n",
        "  pred <- X[[predicted]]\n",
        "  tibble(\n",
        "    Measure = c(\"Mean deviance\", \"D-Squared\"),\n",
        "    Score = c(`Mean deviance` = deviance_gamma(act, pred),\n",
        "              `D-Squared` = r_squared_gamma(act, pred, reference_mean = ref))\n",
        "  )\n",
        "}\n",
        "# Apply it to combinations of dataset and model\n",
        "df_perf <- df_cali %>%\n",
        "  group_by(dataset, model) %>%\n",
        "  summarize(\n",
        "    perf(cur_data(), y_var, \"prediction\", mean(y_train)),\n",
        "    .groups = \"drop\"\n",
        "  )\n",
        "df_perf %>%\n",
        "  pivot_wider(\n",
        "    \"model\",\n",
        "    names_from = c(\"Measure\", \"dataset\"),\n",
        "    values_from = \"Score\", names_sort = TRUE\n",
        "  )\n",
        "ggplot(df_perf, aes(y = Score, x = dataset, color = model, group = model)) +\n",
        "  geom_point(size = 2) +\n",
        "  geom_line() +\n",
        "  facet_wrap(~ Measure, scales = \"free\")\n",
        "\n",
        "### Murphy diagram (for elementary score)\n",
        "\n",
        "df_murphy <- df_cali %>%\n",
        "  filter(!(model %in% c(\"trivial\", \"ols\"))) %>%\n",
        "  group_by(dataset, model) %>%\n",
        "  summarize(\n",
        "    murphy_diagram(\n",
        "      cur_data()[[y_var]],\n",
        "      cur_data()$prediction,\n",
        "      plot = FALSE,\n",
        "      theta = exp(seq(log(10000), log(1.7e5), by = 0.02))\n",
        "    ),\n",
        "    .groups = \"drop\"\n",
        "  ) %>%\n",
        "  rename(Score = predicted)\n",
        "# Vertical line is the mean y on the training data (for both graphs)\n",
        "ggplot(df_murphy, aes(y = Score, x = theta)) +\n",
        "  geom_line(aes(color = model, linetype = model, group = model), size = 0.75) +\n",
        "  geom_vline(xintercept = mean(train[[y_var]]), linetype = 2, size = 0.75) +\n",
        "  facet_wrap(~ dataset, scales = \"free\", ncol = 2) +\n",
        "  scale_x_log10() +\n",
        "  theme(legend.title = element_blank())\n",
        "\n",
        "### Murphy-type diagram (for Tweedie p)\n",
        "\n",
        "df_tweedie <- df_cali %>%\n",
        "  filter(!(model %in% c(\"trivial\", \"ols\"))) %>%\n",
        "  group_by(dataset, model) %>%\n",
        "  summarize(\n",
        "    performance(\n",
        "      cur_data(),\n",
        "      actual = y_var,\n",
        "      predicted = \"prediction\",\n",
        "      metrics = multi_metric(deviance_tweedie, tweedie_p = seq(1, 3, by = 0.05)),\n",
        "      key = \"Tweedie_p\",\n",
        "      value = \"Deviance\"\n",
        "    ),\n",
        "    .groups = \"drop\"\n",
        "  ) %>%\n",
        "  mutate(\n",
        "    Tweedie_p = as.numeric(as.character(Tweedie_p)),\n",
        "    Deviance_rescaled = Deviance * mean(df_cali[[y_var]])^(Tweedie_p-2)\n",
        "  )\n",
        "ggplot(df_tweedie, aes(y = Deviance_rescaled, x = Tweedie_p)) +\n",
        "  geom_line(aes(color = model, linetype = model, group = model), size = 0.75) +\n",
        "  facet_wrap(~ dataset, scales = \"free\", ncol = 2) +\n",
        "  scale_y_log10() +\n",
        "  theme(legend.title = element_blank())\n"
      ]
    }
  ],
  "metadata": {
    "colab": {
      "provenance": [],
      "authorship_tag": "ABX9TyP7O7xMKxTUGHh1wzHswdXr",
      "include_colab_link": true
    },
    "gpuClass": "standard",
    "kernelspec": {
      "display_name": "R",
      "name": "ir"
    },
    "language_info": {
      "name": "R"
    }
  },
  "nbformat": 4,
  "nbformat_minor": 0
}